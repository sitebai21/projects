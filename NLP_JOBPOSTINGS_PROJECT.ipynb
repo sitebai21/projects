{
 "cells": [
  {
   "cell_type": "markdown",
   "metadata": {},
   "source": [
    "### Here is the [link](https://site-11861.medium.com/nlp-on-data-science-related-job-postings-what-you-can-do-to-make-your-resume-pop-and-find-your-e2c25ba73473) to the medium post for the project.\n"
   ]
  },
  {
   "cell_type": "code",
   "execution_count": 9,
   "metadata": {},
   "outputs": [],
   "source": [
    "## Libraries used in the project. "
   ]
  },
  {
   "cell_type": "code",
   "execution_count": 1,
   "metadata": {},
   "outputs": [
    {
     "data": {
      "text/plain": [
       "'C:\\\\Users\\\\kmche\\\\Desktop\\\\UCI MSBA\\\\BANA 275 - NLP'"
      ]
     },
     "execution_count": 1,
     "metadata": {},
     "output_type": "execute_result"
    }
   ],
   "source": [
    "import pandas as pd\n",
    "import numpy as np\n",
    "import nltk\n",
    "from nltk import ngrams\n",
    "from nltk.tokenize import word_tokenize\n",
    "from nltk.corpus import stopwords\n",
    "from nltk.tokenize import RegexpTokenizer\n",
    "import string\n",
    "import spacy\n",
    "import os \n",
    "import collections\n",
    "from collections import Counter\n",
    "from gensim.models.word2vec import Word2Vec\n",
    "nltk.download('wordnet')\n",
    "from nltk.stem import WordNetLemmatizer\n",
    "from nltk.stem.porter import PorterStemmer\n",
    "import spacy\n",
    "os.chdir('C:/Users/kmche/Desktop/UCI MSBA/BANA 275 - NLP')\n",
    "os.getcwd()"
   ]
  },
  {
   "cell_type": "code",
   "execution_count": 2,
   "metadata": {},
   "outputs": [],
   "source": [
    "import warnings\n",
    "warnings.filterwarnings('ignore')"
   ]
  },
  {
   "cell_type": "markdown",
   "metadata": {},
   "source": [
    "# Here are the links to load in data\n",
    "https://www.kaggle.com/andrewmvd/data-analyst-jobs\n",
    "<br> https://www.kaggle.com/jobspikr/data-scientist-job-postings-from-the-usa "
   ]
  },
  {
   "cell_type": "code",
   "execution_count": 3,
   "metadata": {},
   "outputs": [],
   "source": [
    "# First link\n",
    "ba = pd.read_csv(\"C:/Users/kmche/Desktop/UCI MSBA/BANA 275 - NLP/BusinessAnalyst.csv\")\n",
    "da = pd.read_csv(\"C:/Users/kmche/Desktop/UCI MSBA/BANA 275 - NLP/DataAnalyst.csv\")\n",
    "de = pd.read_csv(\"C:/Users/kmche/Desktop/UCI MSBA/BANA 275 - NLP/DataEngineer.csv\")\n",
    "ds = pd.read_csv(\"C:/Users/kmche/Desktop/UCI MSBA/BANA 275 - NLP/DataScientist.csv\")\n",
    "# Second link\n",
    "ds10k = pd.read_csv(\"C:/Users/kmche/Desktop/UCI MSBA/BANA 275 - NLP/data_scientist_united_states_job_postings_jobspikr.csv\")"
   ]
  },
  {
   "cell_type": "code",
   "execution_count": 4,
   "metadata": {},
   "outputs": [],
   "source": [
    "# Creating column for their sources\n",
    "ba['source'] = 'ba'\n",
    "da['source'] = 'da'\n",
    "de['source'] = 'de'\n",
    "ds['source'] = 'ds'\n",
    "ds10k['source'] = 'ds'"
   ]
  },
  {
   "cell_type": "code",
   "execution_count": 5,
   "metadata": {
    "scrolled": false
   },
   "outputs": [
    {
     "name": "stdout",
     "output_type": "stream",
     "text": [
      "392\n",
      "1\n",
      "4\n",
      "1\n",
      "1\n",
      "1\n"
     ]
    }
   ],
   "source": [
    "# these rows don't have job title \n",
    "print(len(ba[ba['Rating'] == 'Jacksonville, FL']))\n",
    "print(len(ba[ba['Rating'] == 'Ponte Vedra Beach, FL']))\n",
    "print(len(ba[ba['Rating'] == 'Orange Park, FL']))\n",
    "print(len(ba[ba['Rating'] == 'Mayport, FL']))\n",
    "print(len(ba[ba['Rating'] == 'Jacksonville Beach, FL']))\n",
    "print(len(ba[ba['Rating'] == 'Fleming Island, FL']))"
   ]
  },
  {
   "cell_type": "code",
   "execution_count": 6,
   "metadata": {},
   "outputs": [],
   "source": [
    "# Removing 400 rows that don't have job title \n",
    "ba = ba[(ba['Rating'] != 'Jacksonville, FL') & \n",
    "        (ba['Rating'] != 'Ponte Vedra Beach, FL') &\n",
    "        (ba['Rating'] != 'Orange Park, FL') &\n",
    "        (ba['Rating'] != 'Mayport, FL') &\n",
    "        (ba['Rating'] != 'Jacksonville Beach, FL') &\n",
    "        (ba['Rating'] != 'Fleming Island, FL')]"
   ]
  },
  {
   "cell_type": "code",
   "execution_count": 7,
   "metadata": {
    "scrolled": false
   },
   "outputs": [
    {
     "name": "stdout",
     "output_type": "stream",
     "text": [
      "Index(['Unnamed: 0', 'index', 'Job Title', 'Salary Estimate',\n",
      "       'Job Description', 'Rating', 'Company Name', 'Location', 'Headquarters',\n",
      "       'Size', 'Founded', 'Type of ownership', 'Industry', 'Sector', 'Revenue',\n",
      "       'Competitors', 'Easy Apply', 'source'],\n",
      "      dtype='object')\n",
      "Index(['Unnamed: 0', 'Job Title', 'Salary Estimate', 'Job Description',\n",
      "       'Rating', 'Company Name', 'Location', 'Headquarters', 'Size', 'Founded',\n",
      "       'Type of ownership', 'Industry', 'Sector', 'Revenue', 'Competitors',\n",
      "       'Easy Apply', 'source'],\n",
      "      dtype='object')\n",
      "Index(['Job Title', 'Salary Estimate', 'Job Description', 'Rating',\n",
      "       'Company Name', 'Location', 'Headquarters', 'Size', 'Founded',\n",
      "       'Type of ownership', 'Industry', 'Sector', 'Revenue', 'Competitors',\n",
      "       'Easy Apply', 'source'],\n",
      "      dtype='object')\n",
      "Index(['Unnamed: 0', 'index', 'Job Title', 'Salary Estimate',\n",
      "       'Job Description', 'Rating', 'Company Name', 'Location', 'Headquarters',\n",
      "       'Size', 'Founded', 'Type of ownership', 'Industry', 'Sector', 'Revenue',\n",
      "       'Competitors', 'Easy Apply', 'source'],\n",
      "      dtype='object')\n"
     ]
    }
   ],
   "source": [
    "print(ba.columns)\n",
    "print(da.columns)\n",
    "print(de.columns)\n",
    "print(ds.columns)"
   ]
  },
  {
   "cell_type": "code",
   "execution_count": 8,
   "metadata": {
    "scrolled": true
   },
   "outputs": [],
   "source": [
    "# dropping unnecessary columns\n",
    "ba = ba.drop(['Unnamed: 0', 'index'], axis = 1)\n",
    "da = da.drop(['Unnamed: 0'], axis = 1)\n",
    "ds = ds.drop(['Unnamed: 0', 'index'], axis = 1)"
   ]
  },
  {
   "cell_type": "code",
   "execution_count": 9,
   "metadata": {
    "scrolled": false
   },
   "outputs": [
    {
     "name": "stdout",
     "output_type": "stream",
     "text": [
      "Index(['Job Title', 'Salary Estimate', 'Job Description', 'Rating',\n",
      "       'Company Name', 'Location', 'Headquarters', 'Size', 'Founded',\n",
      "       'Type of ownership', 'Industry', 'Sector', 'Revenue', 'Competitors',\n",
      "       'Easy Apply', 'source'],\n",
      "      dtype='object')\n",
      "Index(['Job Title', 'Salary Estimate', 'Job Description', 'Rating',\n",
      "       'Company Name', 'Location', 'Headquarters', 'Size', 'Founded',\n",
      "       'Type of ownership', 'Industry', 'Sector', 'Revenue', 'Competitors',\n",
      "       'Easy Apply', 'source'],\n",
      "      dtype='object')\n",
      "Index(['Job Title', 'Salary Estimate', 'Job Description', 'Rating',\n",
      "       'Company Name', 'Location', 'Headquarters', 'Size', 'Founded',\n",
      "       'Type of ownership', 'Industry', 'Sector', 'Revenue', 'Competitors',\n",
      "       'Easy Apply', 'source'],\n",
      "      dtype='object')\n",
      "Index(['Job Title', 'Salary Estimate', 'Job Description', 'Rating',\n",
      "       'Company Name', 'Location', 'Headquarters', 'Size', 'Founded',\n",
      "       'Type of ownership', 'Industry', 'Sector', 'Revenue', 'Competitors',\n",
      "       'Easy Apply', 'source'],\n",
      "      dtype='object')\n"
     ]
    }
   ],
   "source": [
    "print(ba.columns)\n",
    "print(da.columns)\n",
    "print(de.columns)\n",
    "print(ds.columns)"
   ]
  },
  {
   "cell_type": "code",
   "execution_count": 555,
   "metadata": {},
   "outputs": [
    {
     "data": {
      "text/plain": [
       "Index(['job_title', 'salary_est', 'job_desc', 'company', 'location', 'city',\n",
       "       'state', 'source', 'salary_low', 'salary_high', 'salary_mean',\n",
       "       'salary_range', 'job_title_token', 'job_title_clean', 'level', 'role',\n",
       "       'job_desc_token', 'job_desc_clean', 'job_desc_stem', 'job_desc_spacy',\n",
       "       'job_desc_bigrams', 'spacy_tokens', 'dm_skill', 'uni_bi'],\n",
       "      dtype='object')"
      ]
     },
     "execution_count": 555,
     "metadata": {},
     "output_type": "execute_result"
    }
   ],
   "source": [
    "data.columns"
   ]
  },
  {
   "cell_type": "code",
   "execution_count": 10,
   "metadata": {},
   "outputs": [],
   "source": [
    "# combining all data from first link \n",
    "frames = [ba, da, de, ds]\n",
    "result = pd.concat(frames, axis = 0, ignore_index = True)"
   ]
  },
  {
   "cell_type": "code",
   "execution_count": 11,
   "metadata": {
    "scrolled": true
   },
   "outputs": [],
   "source": [
    "# Separating location to city and state columns\n",
    "result['state'] = result['Location'].agg(lambda x: x[-2:])\n",
    "result['city'] = result['Location'].agg(lambda x: x[:-4])"
   ]
  },
  {
   "cell_type": "code",
   "execution_count": 12,
   "metadata": {},
   "outputs": [],
   "source": [
    "# Combining city and state columns for second link, separated by comma \n",
    "ds10k['location'] = ds10k[['city', 'state']].apply(lambda x: ', '.join(x[x.notnull()]), axis=1)"
   ]
  },
  {
   "cell_type": "code",
   "execution_count": 13,
   "metadata": {},
   "outputs": [],
   "source": [
    "# Extracting intersecting columns \n",
    "result_sub = result[['Job Title', 'Salary Estimate', 'Job Description', 'Company Name', 'Location', 'city', 'state', 'source']]\n",
    "# Renaming columns for same name \n",
    "result_sub.columns = ['job_title', 'salary_est','job_desc', 'company', 'location', 'city', 'state', 'source']"
   ]
  },
  {
   "cell_type": "code",
   "execution_count": 14,
   "metadata": {},
   "outputs": [],
   "source": [
    "# Extracting intersecting columns \n",
    "ds10k_sub = ds10k[['job_title', 'salary_offered', 'job_description', 'company_name', 'location', 'city', 'state', 'source']]\n",
    "# Renaming columns for same name \n",
    "ds10k_sub.columns = ['job_title', 'salary_est', 'job_desc', 'company', 'location', 'city', 'state', 'source']"
   ]
  },
  {
   "cell_type": "code",
   "execution_count": 15,
   "metadata": {
    "scrolled": true
   },
   "outputs": [],
   "source": [
    "# Add 4 columns based on \"salary_est\"\n",
    "result_sub['salary_low'] = result_sub[\"salary_est\"].str.extractall(r\"[$](\\d+)\").xs(0, level='match')\n",
    "result_sub['salary_high'] = result_sub[\"salary_est\"].str.extractall(r\"[$](\\d+)\").xs(1, level='match')\n",
    "# WILL NEED TO REPLACE -1 WITH THE MEAN OF EACH JOB TITLE?\n",
    "result_sub.fillna(-1,inplace=True)\n",
    "result_sub['salary_low'] = result_sub['salary_low'].astype(int)\n",
    "result_sub[\"salary_high\"] = result_sub[\"salary_high\"].astype(int)\n",
    "result_sub['salary_mean'] = (result_sub[\"salary_high\"] + result_sub['salary_low'])/2\n",
    "result_sub['salary_range'] = result_sub[\"salary_high\"] - result_sub['salary_low']"
   ]
  },
  {
   "cell_type": "code",
   "execution_count": 16,
   "metadata": {
    "scrolled": false
   },
   "outputs": [
    {
     "data": {
      "text/plain": [
       "9403"
      ]
     },
     "execution_count": 16,
     "metadata": {},
     "output_type": "execute_result"
    }
   ],
   "source": [
    "ds10k_sub['salary_est'].isnull().sum()"
   ]
  },
  {
   "cell_type": "code",
   "execution_count": 17,
   "metadata": {
    "scrolled": false
   },
   "outputs": [
    {
     "data": {
      "text/plain": [
       "array([nan, 'Salary Range: \\xa0\\xa0\\xa0Undisclosed',\n",
       "       '$120000 - $140000 per annum + Package', '$80K - $100K',\n",
       "       '$100K - $150K', '$150K - $200K', '$200K - $250K', '$120K - $140K',\n",
       "       '$100K - $230K', '$90K - $150K', '$200K - $2147484K',\n",
       "       '$50k - 75k | Equity', '$100k - 135k | Equity', 'Negotiable',\n",
       "       '$130K - $150K', '$85k - 97k | Equity', '$150k - 175k | Equity',\n",
       "       '$100,000 - $140,000 a year', '$250K - $500K', '$80K - $150K',\n",
       "       '$200K - $220K'], dtype=object)"
      ]
     },
     "execution_count": 17,
     "metadata": {},
     "output_type": "execute_result"
    }
   ],
   "source": [
    "ds10k_sub['salary_est'].unique()"
   ]
  },
  {
   "cell_type": "code",
   "execution_count": 18,
   "metadata": {},
   "outputs": [],
   "source": [
    "# Cleaning the salary \n",
    "ds10k_sub['salary_est'] = ds10k_sub['salary_est'].str.replace('$', '')\n",
    "ds10k_sub['salary_est'] = ds10k_sub['salary_est'].str.replace(',', '')\n",
    "ds10k_sub['salary_est'] = ds10k_sub['salary_est'].str.replace('\\s\\w+\\s\\w+\\s\\+\\s\\w+', '')\n",
    "ds10k_sub['salary_est'] = ds10k_sub['salary_est'].str.replace('\\s\\|\\s\\w+', '')\n",
    "ds10k_sub['salary_est'] = ds10k_sub['salary_est'].str.replace('\\sa\\s\\w+', '')\n",
    "ds10k_sub['salary_est'] = ds10k_sub['salary_est'].str.replace('Negotiable', '')\n",
    "ds10k_sub['salary_est'] = ds10k_sub['salary_est'].str.replace('Salary Range: \\xa0\\xa0\\xa0Undisclosed', '')\n",
    "ds10k_sub['salary_est'] = ds10k_sub['salary_est'].str.replace('200K - 2147484K', '')\n",
    "ds10k_sub['salary_est'] = ds10k_sub['salary_est'].str.replace('000', '')"
   ]
  },
  {
   "cell_type": "code",
   "execution_count": 19,
   "metadata": {
    "scrolled": true
   },
   "outputs": [],
   "source": [
    "# Add 4 columns based on \"salary_est\"\n",
    "ds10k_sub['salary_low'] = ds10k_sub[\"salary_est\"].str.extractall(r\"(\\d+)\").xs(0, level='match')\n",
    "ds10k_sub['salary_high'] = ds10k_sub[\"salary_est\"].str.extractall(r\"(\\d+)\").xs(1, level='match')\n",
    "# WILL NEED TO REPLACE -1 WITH THE MEAN OF EACH JOB TITLE?\n",
    "ds10k_sub.fillna(-1,inplace=True)\n",
    "ds10k_sub['salary_low'] = ds10k_sub['salary_low'].astype(int)\n",
    "ds10k_sub[\"salary_high\"] = ds10k_sub[\"salary_high\"].astype(int)\n",
    "ds10k_sub['salary_mean'] = (ds10k_sub[\"salary_high\"] + ds10k_sub['salary_low'])/2\n",
    "ds10k_sub['salary_range'] = ds10k_sub[\"salary_high\"] - ds10k_sub['salary_low']"
   ]
  },
  {
   "cell_type": "code",
   "execution_count": 20,
   "metadata": {
    "scrolled": true
   },
   "outputs": [
    {
     "data": {
      "text/plain": [
       "array([-1, '', '120 - 140', '80K - 100K', '100K - 150K', '150K - 200K',\n",
       "       '200K - 250K', '120K - 140K', '100K - 230K', '90K - 150K',\n",
       "       '50k - 75k', '100k - 135k', '130K - 150K', '85k - 97k',\n",
       "       '150k - 175k', '100 - 140', '250K - 500K', '80K - 150K',\n",
       "       '200K - 220K'], dtype=object)"
      ]
     },
     "execution_count": 20,
     "metadata": {},
     "output_type": "execute_result"
    }
   ],
   "source": [
    "ds10k_sub['salary_est'].unique()"
   ]
  },
  {
   "cell_type": "code",
   "execution_count": 21,
   "metadata": {},
   "outputs": [],
   "source": [
    "combined = [result_sub, ds10k_sub]\n",
    "data = pd.concat(combined, axis = 0, ignore_index = True)"
   ]
  },
  {
   "cell_type": "code",
   "execution_count": 23,
   "metadata": {},
   "outputs": [],
   "source": [
    "# Cleaning state column\n",
    "data['state'] = data.state.str.replace(r'\\d', '')\n",
    "data['state'] = data.state.str.replace(r'\\(.*\\)', '')\n",
    "data['state'] = data.state.str.replace(r'Virginia', 'VA')\n",
    "data['state'] = data.state.str.replace(r'New Mexico', 'NM').replace(r'New Jersey', 'NJ').replace(r'Idaho', 'ID').replace(r'Massachusetts', 'MA').replace(r'Louisiana', 'LA').replace(r'Hawaii', 'HI').replace(r'Washington State', 'WA')\n",
    "data['state'] = data.state.str.replace(r'\\s*', '')\n",
    "data['state'] = data.state.str.replace(r'\\-', '')\n",
    "data['state'] = data.state.str.replace(r'(Computerorinternet|Remote|WorkatHome)', 'WFH')\n",
    "data['state'] = data.state.str.replace(r'(NN|om)', 'UK')\n",
    "data['state'] = data.state.str.replace(r'Engineeringorarchitecture', 'TX')"
   ]
  },
  {
   "cell_type": "code",
   "execution_count": 24,
   "metadata": {},
   "outputs": [],
   "source": [
    "# Removing the '/n' from company name\n",
    "data['company'] = data['company'].str.split('\\n',expand=True)[0]"
   ]
  },
  {
   "cell_type": "code",
   "execution_count": 25,
   "metadata": {},
   "outputs": [
    {
     "data": {
      "text/plain": [
       "(22382, 12)"
      ]
     },
     "execution_count": 25,
     "metadata": {},
     "output_type": "execute_result"
    }
   ],
   "source": [
    "data.shape"
   ]
  },
  {
   "cell_type": "code",
   "execution_count": 26,
   "metadata": {
    "scrolled": false
   },
   "outputs": [
    {
     "data": {
      "text/plain": [
       "(21301, 12)"
      ]
     },
     "execution_count": 26,
     "metadata": {},
     "output_type": "execute_result"
    }
   ],
   "source": [
    "# dropped duplicates\n",
    "data = data.drop_duplicates(keep = 'first')\n",
    "data.shape"
   ]
  },
  {
   "cell_type": "code",
   "execution_count": 27,
   "metadata": {
    "scrolled": true
   },
   "outputs": [],
   "source": [
    "# Lower casing job title \n",
    "data['job_title'] = data.job_title.str.lower()"
   ]
  },
  {
   "cell_type": "code",
   "execution_count": 29,
   "metadata": {},
   "outputs": [
    {
     "data": {
      "text/plain": [
       "['i',\n",
       " 'me',\n",
       " 'my',\n",
       " 'myself',\n",
       " 'we',\n",
       " 'our',\n",
       " 'ours',\n",
       " 'ourselves',\n",
       " 'you',\n",
       " \"you're\",\n",
       " \"you've\",\n",
       " \"you'll\",\n",
       " \"you'd\",\n",
       " 'your',\n",
       " 'yours',\n",
       " 'yourself',\n",
       " 'yourselves',\n",
       " 'he',\n",
       " 'him',\n",
       " 'his',\n",
       " 'himself',\n",
       " 'she',\n",
       " \"she's\",\n",
       " 'her',\n",
       " 'hers',\n",
       " 'herself',\n",
       " 'it',\n",
       " \"it's\",\n",
       " 'its',\n",
       " 'itself',\n",
       " 'they',\n",
       " 'them',\n",
       " 'their',\n",
       " 'theirs',\n",
       " 'themselves',\n",
       " 'what',\n",
       " 'which',\n",
       " 'who',\n",
       " 'whom',\n",
       " 'this',\n",
       " 'that',\n",
       " \"that'll\",\n",
       " 'these',\n",
       " 'those',\n",
       " 'am',\n",
       " 'is',\n",
       " 'are',\n",
       " 'was',\n",
       " 'were',\n",
       " 'be',\n",
       " 'been',\n",
       " 'being',\n",
       " 'have',\n",
       " 'has',\n",
       " 'had',\n",
       " 'having',\n",
       " 'do',\n",
       " 'does',\n",
       " 'did',\n",
       " 'doing',\n",
       " 'a',\n",
       " 'an',\n",
       " 'the',\n",
       " 'and',\n",
       " 'but',\n",
       " 'if',\n",
       " 'or',\n",
       " 'because',\n",
       " 'as',\n",
       " 'until',\n",
       " 'while',\n",
       " 'of',\n",
       " 'at',\n",
       " 'by',\n",
       " 'for',\n",
       " 'with',\n",
       " 'about',\n",
       " 'against',\n",
       " 'between',\n",
       " 'into',\n",
       " 'through',\n",
       " 'during',\n",
       " 'before',\n",
       " 'after',\n",
       " 'above',\n",
       " 'below',\n",
       " 'to',\n",
       " 'from',\n",
       " 'up',\n",
       " 'down',\n",
       " 'in',\n",
       " 'out',\n",
       " 'on',\n",
       " 'off',\n",
       " 'over',\n",
       " 'under',\n",
       " 'again',\n",
       " 'further',\n",
       " 'then',\n",
       " 'once',\n",
       " 'here',\n",
       " 'there',\n",
       " 'when',\n",
       " 'where',\n",
       " 'why',\n",
       " 'how',\n",
       " 'all',\n",
       " 'any',\n",
       " 'both',\n",
       " 'each',\n",
       " 'few',\n",
       " 'more',\n",
       " 'most',\n",
       " 'other',\n",
       " 'some',\n",
       " 'such',\n",
       " 'no',\n",
       " 'nor',\n",
       " 'not',\n",
       " 'only',\n",
       " 'own',\n",
       " 'same',\n",
       " 'so',\n",
       " 'than',\n",
       " 'too',\n",
       " 'very',\n",
       " 's',\n",
       " 't',\n",
       " 'can',\n",
       " 'will',\n",
       " 'just',\n",
       " 'don',\n",
       " \"don't\",\n",
       " 'should',\n",
       " \"should've\",\n",
       " 'now',\n",
       " 'd',\n",
       " 'll',\n",
       " 'm',\n",
       " 'o',\n",
       " 're',\n",
       " 've',\n",
       " 'y',\n",
       " 'ain',\n",
       " 'aren',\n",
       " \"aren't\",\n",
       " 'couldn',\n",
       " \"couldn't\",\n",
       " 'didn',\n",
       " \"didn't\",\n",
       " 'doesn',\n",
       " \"doesn't\",\n",
       " 'hadn',\n",
       " \"hadn't\",\n",
       " 'hasn',\n",
       " \"hasn't\",\n",
       " 'haven',\n",
       " \"haven't\",\n",
       " 'isn',\n",
       " \"isn't\",\n",
       " 'ma',\n",
       " 'mightn',\n",
       " \"mightn't\",\n",
       " 'mustn',\n",
       " \"mustn't\",\n",
       " 'needn',\n",
       " \"needn't\",\n",
       " 'shan',\n",
       " \"shan't\",\n",
       " 'shouldn',\n",
       " \"shouldn't\",\n",
       " 'wasn',\n",
       " \"wasn't\",\n",
       " 'weren',\n",
       " \"weren't\",\n",
       " 'won',\n",
       " \"won't\",\n",
       " 'wouldn',\n",
       " \"wouldn't\",\n",
       " '!',\n",
       " '\"',\n",
       " '#',\n",
       " '$',\n",
       " '%',\n",
       " '&',\n",
       " \"'\",\n",
       " '(',\n",
       " ')',\n",
       " '*',\n",
       " '+',\n",
       " ',',\n",
       " '-',\n",
       " '.',\n",
       " '/',\n",
       " ':',\n",
       " ';',\n",
       " '<',\n",
       " '=',\n",
       " '>',\n",
       " '?',\n",
       " '@',\n",
       " '[',\n",
       " '\\\\',\n",
       " ']',\n",
       " '^',\n",
       " '_',\n",
       " '`',\n",
       " '{',\n",
       " '|',\n",
       " '}',\n",
       " '~',\n",
       " '0',\n",
       " '1',\n",
       " '2',\n",
       " '3',\n",
       " '4',\n",
       " '5',\n",
       " '6',\n",
       " '7',\n",
       " '8',\n",
       " '9']"
      ]
     },
     "execution_count": 29,
     "metadata": {},
     "output_type": "execute_result"
    }
   ],
   "source": [
    "# Use this to remove unwanted in job titles\n",
    "stop_words = stopwords.words('english')\n",
    "to_remove = stop_words + list(string.punctuation) + list(string.digits)\n",
    "to_remove  "
   ]
  },
  {
   "cell_type": "code",
   "execution_count": 30,
   "metadata": {
    "scrolled": true
   },
   "outputs": [],
   "source": [
    "# tokenizing job title and removing stopwords/digits/punctuation \n",
    "data['job_title_token'] = data['job_title'].apply(word_tokenize).apply(lambda x: [item for item in x if item not in to_remove])\n"
   ]
  },
  {
   "cell_type": "code",
   "execution_count": 31,
   "metadata": {},
   "outputs": [],
   "source": [
    "from nltk.tokenize.treebank import TreebankWordDetokenizer\n",
    "# combining tokens back into cleaned text \n",
    "data['job_title_clean'] = data['job_title_token'].apply(TreebankWordDetokenizer().detokenize)"
   ]
  },
  {
   "cell_type": "code",
   "execution_count": 32,
   "metadata": {
    "scrolled": true
   },
   "outputs": [],
   "source": [
    "# removing unwanted punctuation that were not separated by space - random ex. salary/hourly, high-five\n",
    "data['job_title_clean'] = data['job_title_clean'].str.replace('/', ' ')\n",
    "data['job_title_clean'] = data['job_title_clean'].str.replace('-', ' ')\n",
    "data['job_title_clean'] = data['job_title_clean'].str.replace('.', ' ')"
   ]
  },
  {
   "cell_type": "code",
   "execution_count": 33,
   "metadata": {
    "scrolled": true
   },
   "outputs": [],
   "source": [
    "# extracing job level\n",
    "data['level'] = data['job_title_clean'].str.extract('(vice president|vp|senior|junior|principal|president|staff|associate|sr|jr|director|chief|manager|lead|iii|ii|entry)')"
   ]
  },
  {
   "cell_type": "code",
   "execution_count": 34,
   "metadata": {
    "scrolled": true
   },
   "outputs": [],
   "source": [
    "# Creating levels for different levels \n",
    "data['level'] = data['level'].replace(\"(vice president|vp)\", 'exec', regex = True)\n",
    "data['level'] = data['level'].replace(\"(chief|director)\", 'head', regex = True)\n",
    "data['level'] = data['level'].replace(\"(lead|principal|manager)\", 'lead', regex = True)\n",
    "data['level'] = data['level'].replace(\"(senior|iii|sr)\", 'senior', regex = True)\n",
    "data['level'] = data['level'].replace(\"(associate|ii|sr|staff)\", 'mid', regex = True)\n",
    "data['level'] = data['level'].replace(\"(junior|jr|entry)\", 'junior', regex = True)\n",
    "data.level.fillna('none', inplace = True)"
   ]
  },
  {
   "cell_type": "code",
   "execution_count": 35,
   "metadata": {
    "scrolled": true
   },
   "outputs": [],
   "source": [
    "# extractcing general positions\n",
    "data['role'] = data['job_title_clean'].str.extract('(data scientist|data engineer|business analyst|data analyst|analyst|data science|manager|scientist|analysis|consultant|machine learning engineer|architect|analytics|software engineer|big data|engineer|researcher|data|research)')"
   ]
  },
  {
   "cell_type": "code",
   "execution_count": 661,
   "metadata": {
    "scrolled": true
   },
   "outputs": [
    {
     "data": {
      "text/html": [
       "<div>\n",
       "<style scoped>\n",
       "    .dataframe tbody tr th:only-of-type {\n",
       "        vertical-align: middle;\n",
       "    }\n",
       "\n",
       "    .dataframe tbody tr th {\n",
       "        vertical-align: top;\n",
       "    }\n",
       "\n",
       "    .dataframe thead th {\n",
       "        text-align: right;\n",
       "    }\n",
       "</style>\n",
       "<table border=\"1\" class=\"dataframe\">\n",
       "  <thead>\n",
       "    <tr style=\"text-align: right;\">\n",
       "      <th></th>\n",
       "      <th>role</th>\n",
       "    </tr>\n",
       "  </thead>\n",
       "  <tbody>\n",
       "    <tr>\n",
       "      <th>data scientist</th>\n",
       "      <td>9545</td>\n",
       "    </tr>\n",
       "    <tr>\n",
       "      <th>data analyst</th>\n",
       "      <td>2682</td>\n",
       "    </tr>\n",
       "    <tr>\n",
       "      <th>analyst</th>\n",
       "      <td>1752</td>\n",
       "    </tr>\n",
       "    <tr>\n",
       "      <th>data engineer</th>\n",
       "      <td>1711</td>\n",
       "    </tr>\n",
       "    <tr>\n",
       "      <th>business analyst</th>\n",
       "      <td>1688</td>\n",
       "    </tr>\n",
       "    <tr>\n",
       "      <th>data</th>\n",
       "      <td>816</td>\n",
       "    </tr>\n",
       "    <tr>\n",
       "      <th>engineer</th>\n",
       "      <td>794</td>\n",
       "    </tr>\n",
       "    <tr>\n",
       "      <th>scientist</th>\n",
       "      <td>590</td>\n",
       "    </tr>\n",
       "    <tr>\n",
       "      <th>software engineer</th>\n",
       "      <td>333</td>\n",
       "    </tr>\n",
       "    <tr>\n",
       "      <th>big data</th>\n",
       "      <td>321</td>\n",
       "    </tr>\n",
       "    <tr>\n",
       "      <th>research</th>\n",
       "      <td>284</td>\n",
       "    </tr>\n",
       "    <tr>\n",
       "      <th>data science</th>\n",
       "      <td>169</td>\n",
       "    </tr>\n",
       "    <tr>\n",
       "      <th>analytics</th>\n",
       "      <td>150</td>\n",
       "    </tr>\n",
       "    <tr>\n",
       "      <th>machine learning engineer</th>\n",
       "      <td>139</td>\n",
       "    </tr>\n",
       "    <tr>\n",
       "      <th>manager</th>\n",
       "      <td>110</td>\n",
       "    </tr>\n",
       "    <tr>\n",
       "      <th>consultant</th>\n",
       "      <td>95</td>\n",
       "    </tr>\n",
       "    <tr>\n",
       "      <th>researcher</th>\n",
       "      <td>46</td>\n",
       "    </tr>\n",
       "    <tr>\n",
       "      <th>analysis</th>\n",
       "      <td>22</td>\n",
       "    </tr>\n",
       "    <tr>\n",
       "      <th>architect</th>\n",
       "      <td>18</td>\n",
       "    </tr>\n",
       "  </tbody>\n",
       "</table>\n",
       "</div>"
      ],
      "text/plain": [
       "                           role\n",
       "data scientist             9545\n",
       "data analyst               2682\n",
       "analyst                    1752\n",
       "data engineer              1711\n",
       "business analyst           1688\n",
       "data                        816\n",
       "engineer                    794\n",
       "scientist                   590\n",
       "software engineer           333\n",
       "big data                    321\n",
       "research                    284\n",
       "data science                169\n",
       "analytics                   150\n",
       "machine learning engineer   139\n",
       "manager                     110\n",
       "consultant                   95\n",
       "researcher                   46\n",
       "analysis                     22\n",
       "architect                    18"
      ]
     },
     "execution_count": 661,
     "metadata": {},
     "output_type": "execute_result"
    }
   ],
   "source": [
    "pd.DataFrame(data.role.value_counts())"
   ]
  },
  {
   "cell_type": "code",
   "execution_count": 259,
   "metadata": {
    "scrolled": true
   },
   "outputs": [
    {
     "data": {
      "text/html": [
       "<div>\n",
       "<style scoped>\n",
       "    .dataframe tbody tr th:only-of-type {\n",
       "        vertical-align: middle;\n",
       "    }\n",
       "\n",
       "    .dataframe tbody tr th {\n",
       "        vertical-align: top;\n",
       "    }\n",
       "\n",
       "    .dataframe thead th {\n",
       "        text-align: right;\n",
       "    }\n",
       "</style>\n",
       "<table border=\"1\" class=\"dataframe\">\n",
       "  <thead>\n",
       "    <tr style=\"text-align: right;\">\n",
       "      <th></th>\n",
       "      <th>job_title</th>\n",
       "      <th>salary_est</th>\n",
       "      <th>job_desc</th>\n",
       "      <th>company</th>\n",
       "      <th>location</th>\n",
       "      <th>city</th>\n",
       "      <th>state</th>\n",
       "      <th>source</th>\n",
       "      <th>salary_low</th>\n",
       "      <th>salary_high</th>\n",
       "      <th>...</th>\n",
       "      <th>job_title_token</th>\n",
       "      <th>job_title_clean</th>\n",
       "      <th>level</th>\n",
       "      <th>role</th>\n",
       "      <th>job_desc_token</th>\n",
       "      <th>job_desc_clean</th>\n",
       "      <th>job_desc_stem</th>\n",
       "      <th>job_desc_spacy</th>\n",
       "      <th>job_desc_bigrams</th>\n",
       "      <th>spacy_tokens</th>\n",
       "    </tr>\n",
       "  </thead>\n",
       "  <tbody>\n",
       "  </tbody>\n",
       "</table>\n",
       "<p>0 rows × 22 columns</p>\n",
       "</div>"
      ],
      "text/plain": [
       "Empty DataFrame\n",
       "Columns: [job_title, salary_est, job_desc, company, location, city, state, source, salary_low, salary_high, salary_mean, salary_range, job_title_token, job_title_clean, level, role, job_desc_token, job_desc_clean, job_desc_stem, job_desc_spacy, job_desc_bigrams, spacy_tokens]\n",
       "Index: []\n",
       "\n",
       "[0 rows x 22 columns]"
      ]
     },
     "execution_count": 259,
     "metadata": {},
     "output_type": "execute_result"
    }
   ],
   "source": [
    "print(len(data[data['role'].isnull()]))\n",
    "print(data.shape)"
   ]
  },
  {
   "cell_type": "code",
   "execution_count": 42,
   "metadata": {
    "scrolled": true
   },
   "outputs": [
    {
     "data": {
      "text/plain": [
       "(21265, 16)"
      ]
     },
     "execution_count": 42,
     "metadata": {},
     "output_type": "execute_result"
    }
   ],
   "source": [
    "# Removing rows from role is null because these are not informative such as 'business intelligence' or 'services'\n",
    "data = data.dropna(subset=['role'])\n",
    "data.shape"
   ]
  },
  {
   "cell_type": "code",
   "execution_count": 50,
   "metadata": {
    "scrolled": true
   },
   "outputs": [
    {
     "data": {
      "text/plain": [
       "role\n",
       "data scientist               8007\n",
       "research                       66\n",
       "manager                        40\n",
       "analytics                      38\n",
       "data analyst                   37\n",
       "engineer                       36\n",
       "data                           28\n",
       "big data                       27\n",
       "analyst                        23\n",
       "machine learning engineer      14\n",
       "software engineer              12\n",
       "data engineer                  10\n",
       "consultant                      8\n",
       "architect                       5\n",
       "data science                    4\n",
       "business analyst                4\n",
       "researcher                      4\n",
       "analysis                        2\n",
       "scientist                       1\n",
       "dtype: int64"
      ]
     },
     "execution_count": 50,
     "metadata": {},
     "output_type": "execute_result"
    }
   ],
   "source": [
    "data[data.salary_mean == -1].value_counts('role')"
   ]
  },
  {
   "cell_type": "code",
   "execution_count": 45,
   "metadata": {
    "scrolled": true
   },
   "outputs": [
    {
     "data": {
      "text/plain": [
       "level\n",
       "none      21\n",
       "senior    11\n",
       "lead       6\n",
       "dtype: int64"
      ]
     },
     "execution_count": 45,
     "metadata": {},
     "output_type": "execute_result"
    }
   ],
   "source": [
    "data[(data.role == 'analytics') & (data.salary_mean == -1)].value_counts('level')"
   ]
  },
  {
   "cell_type": "code",
   "execution_count": 53,
   "metadata": {},
   "outputs": [],
   "source": [
    "jobs = data[data.salary_mean == -1].role.unique().tolist()\n",
    "rank = data[data.salary_mean == -1].level.unique().tolist()\n",
    "\n",
    "# replacing any Salary with -1 with the average salary of respective role and level\n",
    "for i in jobs:\n",
    "    for j in rank: \n",
    "        data['salary_mean'].mask(((data['salary_mean'] == -1) & (data['role'] == i) & (data['level'] == j)), data[(data['role'] == i) & (data['salary_mean'] != -1 ) & (data['level'] == j)].salary_mean.mean(), inplace=True)\n"
   ]
  },
  {
   "cell_type": "code",
   "execution_count": 56,
   "metadata": {
    "scrolled": true
   },
   "outputs": [],
   "source": [
    "# Cleaning job description\n",
    "data['job_desc'] = data['job_desc'].str.lower()\n",
    "data['job_desc'] = data['job_desc'].str.replace('\\\\n',' ')\n",
    "data['job_desc'] = data['job_desc'].str.replace('http\\S+|www\\S+|https\\S+','')\n",
    "data['job_desc'] = data['job_desc'].str.replace('\\S+@\\S+\\.\\S+','')"
   ]
  },
  {
   "cell_type": "code",
   "execution_count": 57,
   "metadata": {},
   "outputs": [],
   "source": [
    "# Use this to remove unwanted in job description, kept digits \n",
    "stop_words = stopwords.words('english')\n",
    "to_remove2 = stop_words + list(string.punctuation)"
   ]
  },
  {
   "cell_type": "code",
   "execution_count": 58,
   "metadata": {
    "scrolled": false
   },
   "outputs": [],
   "source": [
    "data['job_desc_token'] = data['job_desc'].apply(word_tokenize).apply(lambda x: [item for item in x if item not in to_remove2])"
   ]
  },
  {
   "cell_type": "code",
   "execution_count": 59,
   "metadata": {
    "scrolled": true
   },
   "outputs": [],
   "source": [
    "data['job_desc_clean'] = data['job_desc_token'].apply(TreebankWordDetokenizer().detokenize)"
   ]
  },
  {
   "cell_type": "markdown",
   "metadata": {},
   "source": [
    "# Comparing Stemming with Lemmatization \n",
    "### WordNet and Spacy for Lemmatization (Spacy seems better) "
   ]
  },
  {
   "cell_type": "code",
   "execution_count": 78,
   "metadata": {
    "scrolled": true
   },
   "outputs": [
    {
     "data": {
      "text/html": [
       "<div>\n",
       "<style scoped>\n",
       "    .dataframe tbody tr th:only-of-type {\n",
       "        vertical-align: middle;\n",
       "    }\n",
       "\n",
       "    .dataframe tbody tr th {\n",
       "        vertical-align: top;\n",
       "    }\n",
       "\n",
       "    .dataframe thead th {\n",
       "        text-align: right;\n",
       "    }\n",
       "</style>\n",
       "<table border=\"1\" class=\"dataframe\">\n",
       "  <thead>\n",
       "    <tr style=\"text-align: right;\">\n",
       "      <th></th>\n",
       "      <th>job_title</th>\n",
       "      <th>salary_est</th>\n",
       "      <th>job_desc</th>\n",
       "      <th>company</th>\n",
       "      <th>location</th>\n",
       "      <th>city</th>\n",
       "      <th>state</th>\n",
       "      <th>source</th>\n",
       "      <th>salary_low</th>\n",
       "      <th>salary_high</th>\n",
       "      <th>salary_mean</th>\n",
       "      <th>salary_range</th>\n",
       "      <th>job_title_token</th>\n",
       "      <th>job_title_clean</th>\n",
       "      <th>level</th>\n",
       "      <th>role</th>\n",
       "      <th>job_desc_token</th>\n",
       "      <th>job_desc_clean</th>\n",
       "      <th>job_desc_stem</th>\n",
       "    </tr>\n",
       "  </thead>\n",
       "  <tbody>\n",
       "    <tr>\n",
       "      <th>0</th>\n",
       "      <td>business analyst - clinical &amp; logistics platform</td>\n",
       "      <td>$56K-$102K (Glassdoor est.)</td>\n",
       "      <td>company overview   at memorial sloan kettering...</td>\n",
       "      <td>Memorial Sloan-Kettering</td>\n",
       "      <td>New York, NY</td>\n",
       "      <td>New York</td>\n",
       "      <td>NY</td>\n",
       "      <td>ba</td>\n",
       "      <td>56</td>\n",
       "      <td>102</td>\n",
       "      <td>79.000000</td>\n",
       "      <td>46</td>\n",
       "      <td>[business, analyst, clinical, logistics, platf...</td>\n",
       "      <td>business analyst clinical logistics platform</td>\n",
       "      <td>none</td>\n",
       "      <td>business analyst</td>\n",
       "      <td>[company, overview, memorial, sloan, kettering...</td>\n",
       "      <td>company overview memorial sloan kettering msk ...</td>\n",
       "      <td>[compani, overview, memori, sloan, ketter, msk...</td>\n",
       "    </tr>\n",
       "    <tr>\n",
       "      <th>1</th>\n",
       "      <td>business analyst</td>\n",
       "      <td>$56K-$102K (Glassdoor est.)</td>\n",
       "      <td>we are seeking for an energetic and collaborat...</td>\n",
       "      <td>Paine Schwartz Partners</td>\n",
       "      <td>New York, NY</td>\n",
       "      <td>New York</td>\n",
       "      <td>NY</td>\n",
       "      <td>ba</td>\n",
       "      <td>56</td>\n",
       "      <td>102</td>\n",
       "      <td>79.000000</td>\n",
       "      <td>46</td>\n",
       "      <td>[business, analyst]</td>\n",
       "      <td>business analyst</td>\n",
       "      <td>none</td>\n",
       "      <td>business analyst</td>\n",
       "      <td>[seeking, energetic, collaborative, analyst, e...</td>\n",
       "      <td>seeking energetic collaborative analyst experi...</td>\n",
       "      <td>[seek, energet, collabor, analyst, experi, pas...</td>\n",
       "    </tr>\n",
       "    <tr>\n",
       "      <th>2</th>\n",
       "      <td>data analyst</td>\n",
       "      <td>$56K-$102K (Glassdoor est.)</td>\n",
       "      <td>for more than a decade, asembia has been worki...</td>\n",
       "      <td>Asembia</td>\n",
       "      <td>Florham Park, NJ</td>\n",
       "      <td>Florham Park</td>\n",
       "      <td>NJ</td>\n",
       "      <td>ba</td>\n",
       "      <td>56</td>\n",
       "      <td>102</td>\n",
       "      <td>79.000000</td>\n",
       "      <td>46</td>\n",
       "      <td>[data, analyst]</td>\n",
       "      <td>data analyst</td>\n",
       "      <td>none</td>\n",
       "      <td>data analyst</td>\n",
       "      <td>[decade, asembia, working, specialty, pharmaci...</td>\n",
       "      <td>decade asembia working specialty pharmacies ma...</td>\n",
       "      <td>[decad, asembia, work, specialti, pharmaci, ma...</td>\n",
       "    </tr>\n",
       "    <tr>\n",
       "      <th>3</th>\n",
       "      <td>information security analyst, incident response</td>\n",
       "      <td>$56K-$102K (Glassdoor est.)</td>\n",
       "      <td>job description summary the information securi...</td>\n",
       "      <td>BD</td>\n",
       "      <td>Franklin Lakes, NJ</td>\n",
       "      <td>Franklin Lakes</td>\n",
       "      <td>NJ</td>\n",
       "      <td>ba</td>\n",
       "      <td>56</td>\n",
       "      <td>102</td>\n",
       "      <td>79.000000</td>\n",
       "      <td>46</td>\n",
       "      <td>[information, security, analyst, incident, res...</td>\n",
       "      <td>information security analyst incident response</td>\n",
       "      <td>none</td>\n",
       "      <td>analyst</td>\n",
       "      <td>[job, description, summary, information, secur...</td>\n",
       "      <td>job description summary information security a...</td>\n",
       "      <td>[job, descript, summari, inform, secur, analys...</td>\n",
       "    </tr>\n",
       "    <tr>\n",
       "      <th>4</th>\n",
       "      <td>analyst - fp&amp;a global revenue</td>\n",
       "      <td>$56K-$102K (Glassdoor est.)</td>\n",
       "      <td>magnite is the world's largest independent sel...</td>\n",
       "      <td>Rubicon Project</td>\n",
       "      <td>New York, NY</td>\n",
       "      <td>New York</td>\n",
       "      <td>NY</td>\n",
       "      <td>ba</td>\n",
       "      <td>56</td>\n",
       "      <td>102</td>\n",
       "      <td>79.000000</td>\n",
       "      <td>46</td>\n",
       "      <td>[analyst, fp, global, revenue]</td>\n",
       "      <td>analyst fp global revenue</td>\n",
       "      <td>none</td>\n",
       "      <td>analyst</td>\n",
       "      <td>[magnite, world, 's, largest, independent, sel...</td>\n",
       "      <td>magnite world's largest independent sell-side ...</td>\n",
       "      <td>[magnit, world, 's, largest, independ, sell-si...</td>\n",
       "    </tr>\n",
       "    <tr>\n",
       "      <th>...</th>\n",
       "      <td>...</td>\n",
       "      <td>...</td>\n",
       "      <td>...</td>\n",
       "      <td>...</td>\n",
       "      <td>...</td>\n",
       "      <td>...</td>\n",
       "      <td>...</td>\n",
       "      <td>...</td>\n",
       "      <td>...</td>\n",
       "      <td>...</td>\n",
       "      <td>...</td>\n",
       "      <td>...</td>\n",
       "      <td>...</td>\n",
       "      <td>...</td>\n",
       "      <td>...</td>\n",
       "      <td>...</td>\n",
       "      <td>...</td>\n",
       "      <td>...</td>\n",
       "      <td>...</td>\n",
       "    </tr>\n",
       "    <tr>\n",
       "      <th>22370</th>\n",
       "      <td>ux data scientist w/python for r&amp;d design cent...</td>\n",
       "      <td>-1</td>\n",
       "      <td>summary   as the data scientist on the experie...</td>\n",
       "      <td>OSI Engineering</td>\n",
       "      <td>San Francisco, CA</td>\n",
       "      <td>San Francisco</td>\n",
       "      <td>CA</td>\n",
       "      <td>ds</td>\n",
       "      <td>-1</td>\n",
       "      <td>-1</td>\n",
       "      <td>115.986348</td>\n",
       "      <td>0</td>\n",
       "      <td>[ux, data, scientist, w/python, r, design, cen...</td>\n",
       "      <td>ux data scientist w python r design center san...</td>\n",
       "      <td>none</td>\n",
       "      <td>data scientist</td>\n",
       "      <td>[summary, data, scientist, experience, researc...</td>\n",
       "      <td>summary data scientist experience research tea...</td>\n",
       "      <td>[summari, data, scientist, experi, research, t...</td>\n",
       "    </tr>\n",
       "    <tr>\n",
       "      <th>22371</th>\n",
       "      <td>data scientist</td>\n",
       "      <td>-1</td>\n",
       "      <td>job description:  the data scientist within th...</td>\n",
       "      <td>Echo Global Logistics</td>\n",
       "      <td>Computer-or-internet, Computer-or-internet</td>\n",
       "      <td>Computer-or-internet</td>\n",
       "      <td>WFH</td>\n",
       "      <td>ds</td>\n",
       "      <td>-1</td>\n",
       "      <td>-1</td>\n",
       "      <td>115.986348</td>\n",
       "      <td>0</td>\n",
       "      <td>[data, scientist]</td>\n",
       "      <td>data scientist</td>\n",
       "      <td>none</td>\n",
       "      <td>data scientist</td>\n",
       "      <td>[job, description, data, scientist, within, st...</td>\n",
       "      <td>job description data scientist within strategi...</td>\n",
       "      <td>[job, descript, data, scientist, within, strat...</td>\n",
       "    </tr>\n",
       "    <tr>\n",
       "      <th>22372</th>\n",
       "      <td>data scientist</td>\n",
       "      <td>-1</td>\n",
       "      <td>job description  our advanced data analytics d...</td>\n",
       "      <td>Metron, Inc.</td>\n",
       "      <td>Computer-or-internet, Computer-or-internet</td>\n",
       "      <td>Computer-or-internet</td>\n",
       "      <td>WFH</td>\n",
       "      <td>ds</td>\n",
       "      <td>-1</td>\n",
       "      <td>-1</td>\n",
       "      <td>115.986348</td>\n",
       "      <td>0</td>\n",
       "      <td>[data, scientist]</td>\n",
       "      <td>data scientist</td>\n",
       "      <td>none</td>\n",
       "      <td>data scientist</td>\n",
       "      <td>[job, description, advanced, data, analytics, ...</td>\n",
       "      <td>job description advanced data analytics divisi...</td>\n",
       "      <td>[job, descript, advanc, data, analyt, divis, r...</td>\n",
       "    </tr>\n",
       "    <tr>\n",
       "      <th>22374</th>\n",
       "      <td>geology/geo-data scientist</td>\n",
       "      <td>-1</td>\n",
       "      <td>organization   national energy technology labo...</td>\n",
       "      <td>Albany, OR</td>\n",
       "      <td>Albany, OR</td>\n",
       "      <td>Albany</td>\n",
       "      <td>OR</td>\n",
       "      <td>ds</td>\n",
       "      <td>-1</td>\n",
       "      <td>-1</td>\n",
       "      <td>115.986348</td>\n",
       "      <td>0</td>\n",
       "      <td>[geology/geo-data, scientist]</td>\n",
       "      <td>geology geo data scientist</td>\n",
       "      <td>none</td>\n",
       "      <td>data scientist</td>\n",
       "      <td>[organization, national, energy, technology, l...</td>\n",
       "      <td>organization national energy technology labora...</td>\n",
       "      <td>[organ, nation, energi, technolog, laboratori,...</td>\n",
       "    </tr>\n",
       "    <tr>\n",
       "      <th>22375</th>\n",
       "      <td>data scientist, (staff or principal)</td>\n",
       "      <td>-1</td>\n",
       "      <td>data scientist, (staff or principal) at realto...</td>\n",
       "      <td>Realtor.com</td>\n",
       "      <td>Santa Clara</td>\n",
       "      <td>Santa Clara</td>\n",
       "      <td>NaN</td>\n",
       "      <td>ds</td>\n",
       "      <td>-1</td>\n",
       "      <td>-1</td>\n",
       "      <td>115.618421</td>\n",
       "      <td>0</td>\n",
       "      <td>[data, scientist, staff, principal]</td>\n",
       "      <td>data scientist staff principal</td>\n",
       "      <td>mid</td>\n",
       "      <td>data scientist</td>\n",
       "      <td>[data, scientist, staff, principal, realtor.co...</td>\n",
       "      <td>data scientist staff principal realtor.com vie...</td>\n",
       "      <td>[data, scientist, staff, princip, realtor.com,...</td>\n",
       "    </tr>\n",
       "  </tbody>\n",
       "</table>\n",
       "<p>21265 rows × 19 columns</p>\n",
       "</div>"
      ],
      "text/plain": [
       "                                               job_title  \\\n",
       "0       business analyst - clinical & logistics platform   \n",
       "1                                       business analyst   \n",
       "2                                           data analyst   \n",
       "3        information security analyst, incident response   \n",
       "4                          analyst - fp&a global revenue   \n",
       "...                                                  ...   \n",
       "22370  ux data scientist w/python for r&d design cent...   \n",
       "22371                                     data scientist   \n",
       "22372                                     data scientist   \n",
       "22374                         geology/geo-data scientist   \n",
       "22375               data scientist, (staff or principal)   \n",
       "\n",
       "                        salary_est  \\\n",
       "0      $56K-$102K (Glassdoor est.)   \n",
       "1      $56K-$102K (Glassdoor est.)   \n",
       "2      $56K-$102K (Glassdoor est.)   \n",
       "3      $56K-$102K (Glassdoor est.)   \n",
       "4      $56K-$102K (Glassdoor est.)   \n",
       "...                            ...   \n",
       "22370                           -1   \n",
       "22371                           -1   \n",
       "22372                           -1   \n",
       "22374                           -1   \n",
       "22375                           -1   \n",
       "\n",
       "                                                job_desc  \\\n",
       "0      company overview   at memorial sloan kettering...   \n",
       "1      we are seeking for an energetic and collaborat...   \n",
       "2      for more than a decade, asembia has been worki...   \n",
       "3      job description summary the information securi...   \n",
       "4      magnite is the world's largest independent sel...   \n",
       "...                                                  ...   \n",
       "22370  summary   as the data scientist on the experie...   \n",
       "22371  job description:  the data scientist within th...   \n",
       "22372  job description  our advanced data analytics d...   \n",
       "22374  organization   national energy technology labo...   \n",
       "22375  data scientist, (staff or principal) at realto...   \n",
       "\n",
       "                        company                                    location  \\\n",
       "0      Memorial Sloan-Kettering                                New York, NY   \n",
       "1       Paine Schwartz Partners                                New York, NY   \n",
       "2                       Asembia                            Florham Park, NJ   \n",
       "3                            BD                          Franklin Lakes, NJ   \n",
       "4               Rubicon Project                                New York, NY   \n",
       "...                         ...                                         ...   \n",
       "22370           OSI Engineering                           San Francisco, CA   \n",
       "22371     Echo Global Logistics  Computer-or-internet, Computer-or-internet   \n",
       "22372              Metron, Inc.  Computer-or-internet, Computer-or-internet   \n",
       "22374                Albany, OR                                  Albany, OR   \n",
       "22375               Realtor.com                                 Santa Clara   \n",
       "\n",
       "                       city state source  salary_low  salary_high  \\\n",
       "0                  New York    NY     ba          56          102   \n",
       "1                  New York    NY     ba          56          102   \n",
       "2              Florham Park    NJ     ba          56          102   \n",
       "3            Franklin Lakes    NJ     ba          56          102   \n",
       "4                  New York    NY     ba          56          102   \n",
       "...                     ...   ...    ...         ...          ...   \n",
       "22370         San Francisco    CA     ds          -1           -1   \n",
       "22371  Computer-or-internet   WFH     ds          -1           -1   \n",
       "22372  Computer-or-internet   WFH     ds          -1           -1   \n",
       "22374                Albany    OR     ds          -1           -1   \n",
       "22375           Santa Clara   NaN     ds          -1           -1   \n",
       "\n",
       "       salary_mean  salary_range  \\\n",
       "0        79.000000            46   \n",
       "1        79.000000            46   \n",
       "2        79.000000            46   \n",
       "3        79.000000            46   \n",
       "4        79.000000            46   \n",
       "...            ...           ...   \n",
       "22370   115.986348             0   \n",
       "22371   115.986348             0   \n",
       "22372   115.986348             0   \n",
       "22374   115.986348             0   \n",
       "22375   115.618421             0   \n",
       "\n",
       "                                         job_title_token  \\\n",
       "0      [business, analyst, clinical, logistics, platf...   \n",
       "1                                    [business, analyst]   \n",
       "2                                        [data, analyst]   \n",
       "3      [information, security, analyst, incident, res...   \n",
       "4                         [analyst, fp, global, revenue]   \n",
       "...                                                  ...   \n",
       "22370  [ux, data, scientist, w/python, r, design, cen...   \n",
       "22371                                  [data, scientist]   \n",
       "22372                                  [data, scientist]   \n",
       "22374                      [geology/geo-data, scientist]   \n",
       "22375                [data, scientist, staff, principal]   \n",
       "\n",
       "                                         job_title_clean level  \\\n",
       "0           business analyst clinical logistics platform  none   \n",
       "1                                       business analyst  none   \n",
       "2                                           data analyst  none   \n",
       "3         information security analyst incident response  none   \n",
       "4                              analyst fp global revenue  none   \n",
       "...                                                  ...   ...   \n",
       "22370  ux data scientist w python r design center san...  none   \n",
       "22371                                     data scientist  none   \n",
       "22372                                     data scientist  none   \n",
       "22374                         geology geo data scientist  none   \n",
       "22375                     data scientist staff principal   mid   \n",
       "\n",
       "                   role                                     job_desc_token  \\\n",
       "0      business analyst  [company, overview, memorial, sloan, kettering...   \n",
       "1      business analyst  [seeking, energetic, collaborative, analyst, e...   \n",
       "2          data analyst  [decade, asembia, working, specialty, pharmaci...   \n",
       "3               analyst  [job, description, summary, information, secur...   \n",
       "4               analyst  [magnite, world, 's, largest, independent, sel...   \n",
       "...                 ...                                                ...   \n",
       "22370    data scientist  [summary, data, scientist, experience, researc...   \n",
       "22371    data scientist  [job, description, data, scientist, within, st...   \n",
       "22372    data scientist  [job, description, advanced, data, analytics, ...   \n",
       "22374    data scientist  [organization, national, energy, technology, l...   \n",
       "22375    data scientist  [data, scientist, staff, principal, realtor.co...   \n",
       "\n",
       "                                          job_desc_clean  \\\n",
       "0      company overview memorial sloan kettering msk ...   \n",
       "1      seeking energetic collaborative analyst experi...   \n",
       "2      decade asembia working specialty pharmacies ma...   \n",
       "3      job description summary information security a...   \n",
       "4      magnite world's largest independent sell-side ...   \n",
       "...                                                  ...   \n",
       "22370  summary data scientist experience research tea...   \n",
       "22371  job description data scientist within strategi...   \n",
       "22372  job description advanced data analytics divisi...   \n",
       "22374  organization national energy technology labora...   \n",
       "22375  data scientist staff principal realtor.com vie...   \n",
       "\n",
       "                                           job_desc_stem  \n",
       "0      [compani, overview, memori, sloan, ketter, msk...  \n",
       "1      [seek, energet, collabor, analyst, experi, pas...  \n",
       "2      [decad, asembia, work, specialti, pharmaci, ma...  \n",
       "3      [job, descript, summari, inform, secur, analys...  \n",
       "4      [magnit, world, 's, largest, independ, sell-si...  \n",
       "...                                                  ...  \n",
       "22370  [summari, data, scientist, experi, research, t...  \n",
       "22371  [job, descript, data, scientist, within, strat...  \n",
       "22372  [job, descript, advanc, data, analyt, divis, r...  \n",
       "22374  [organ, nation, energi, technolog, laboratori,...  \n",
       "22375  [data, scientist, staff, princip, realtor.com,...  \n",
       "\n",
       "[21265 rows x 19 columns]"
      ]
     },
     "execution_count": 78,
     "metadata": {},
     "output_type": "execute_result"
    }
   ],
   "source": [
    "stemmer = PorterStemmer()\n",
    "data['job_desc_stem'] = data['job_desc_token'].apply(lambda x: [stemmer.stem(y) for y in x])\n",
    "data"
   ]
  },
  {
   "cell_type": "code",
   "execution_count": 79,
   "metadata": {},
   "outputs": [
    {
     "name": "stderr",
     "output_type": "stream",
     "text": [
      "[nltk_data] Downloading package wordnet to\n",
      "[nltk_data]     C:\\Users\\kmche\\AppData\\Roaming\\nltk_data...\n",
      "[nltk_data]   Package wordnet is already up-to-date!\n"
     ]
    }
   ],
   "source": [
    "wnl = WordNetLemmatizer()"
   ]
  },
  {
   "cell_type": "code",
   "execution_count": 80,
   "metadata": {},
   "outputs": [
    {
     "name": "stdout",
     "output_type": "stream",
     "text": [
      "decade-->decade\n",
      "asembia-->asembia\n",
      "working-->working\n",
      "specialty-->specialty\n",
      "pharmacies-->pharmacy\n",
      "manufacturers-->manufacturer\n",
      "prescribers-->prescribers\n",
      "payers-->payer\n",
      "industry-->industry\n",
      "stakeholders-->stakeholder\n",
      "develop-->develop\n",
      "solutions-->solution\n",
      "high-touch-->high-touch\n",
      "specialty-->specialty\n",
      "pharmaceutical-->pharmaceutical\n",
      "service-->service\n",
      "model.through-->model.through\n",
      "collaborative-->collaborative\n",
      "programs-->program\n",
      "contracting-->contracting\n",
      "initiatives-->initiative\n",
      "patient-->patient\n",
      "support-->support\n",
      "hub-->hub\n",
      "services-->service\n",
      "innovative-->innovative\n",
      "technology-->technology\n",
      "platforms-->platform\n",
      "asembia-->asembia\n",
      "committed-->committed\n",
      "positively-->positively\n",
      "impacting-->impacting\n",
      "patient-->patient\n",
      "journey-->journey\n",
      "asembia-->asembia\n",
      "focuses-->focus\n",
      "specialty-->specialty\n",
      "pharmacy-->pharmacy\n",
      "segment-->segment\n",
      "offers-->offer\n",
      "comprehensive-->comprehensive\n",
      "hub-->hub\n",
      "services-->service\n",
      "pharmacy-->pharmacy\n",
      "network-->network\n",
      "management-->management\n",
      "group-->group\n",
      "purchasing-->purchasing\n",
      "gpo-->gpo\n",
      "services-->service\n",
      "innovative-->innovative\n",
      "technology-->technology\n",
      "platforms-->platform\n",
      "more.as-->more.as\n",
      "leading-->leading\n",
      "industry-->industry\n",
      "voice-->voice\n",
      "advocate-->advocate\n",
      "asembia-->asembia\n",
      "committed-->committed\n",
      "bringing-->bringing\n",
      "strategic-->strategic\n",
      "channel-->channel\n",
      "management-->management\n",
      "solutions-->solution\n",
      "leading-edge-->leading-edge\n",
      "products-->product\n",
      "high-touch-->high-touch\n",
      "services-->service\n",
      "specialty-->specialty\n",
      "pharmacy-->pharmacy\n",
      "industry-->industry\n",
      "help-->help\n",
      "customers-->customer\n",
      "optimize-->optimize\n",
      "patient-->patient\n",
      "care-->care\n",
      "outcomes-->outcome\n",
      "primary-->primary\n",
      "function-->function\n",
      "technical-->technical\n",
      "analystis-->analystis\n",
      "responsible-->responsible\n",
      "implementing-->implementing\n",
      "data-->data\n",
      "solutions-->solution\n",
      "varied-->varied\n",
      "data-->data\n",
      "reporting-->reporting\n",
      "needs-->need\n",
      "act-->act\n",
      "subject-->subject\n",
      "matter-->matter\n",
      "expert-->expert\n",
      "sme-->sme\n",
      "technical-->technical\n",
      "data-->data\n",
      "product-->product\n",
      "offerings-->offering\n",
      "job-->job\n",
      "scope-->scope\n",
      "major-->major\n",
      "responsibilities-->responsibility\n",
      "·follow-->·follow\n",
      "policies-->policy\n",
      "internal-->internal\n",
      "processes-->process\n",
      "ensure-->ensure\n",
      "data-->data\n",
      "programs-->program\n",
      "files-->file\n",
      "delivered-->delivered\n",
      "accordance-->accordance\n",
      "provisions-->provision\n",
      "health-->health\n",
      "insurance-->insurance\n",
      "portability-->portability\n",
      "accountability-->accountability\n",
      "act-->act\n",
      "1996-->1996\n",
      "implementing-->implementing\n",
      "regulations-->regulation\n",
      "amended-->amended\n",
      "“-->“\n",
      "hipaa-->hipaa\n",
      "”-->”\n",
      "·design-->·design\n",
      "develop-->develop\n",
      "validate-->validate\n",
      "data-->data\n",
      "reporting-->reporting\n",
      "solutions-->solution\n",
      "minimum-->minimum\n",
      "supervision-->supervision\n",
      "·evaluate-->·evaluate\n",
      "data-->data\n",
      "report-->report\n",
      "findings-->finding\n",
      "accuracy-->accuracy\n",
      "completeness-->completeness\n",
      "per-->per\n",
      "data-->data\n",
      "specifications-->specification\n",
      "·responsible-->·responsible\n",
      "monitoring-->monitoring\n",
      "file/data-->file/data\n",
      "receipt-->receipt\n",
      "per-->per\n",
      "expected-->expected\n",
      "schedules-->schedule\n",
      "identify/escalate/-->identify/escalate/\n",
      "resolve-->resolve\n",
      "nonconformances-->nonconformance\n",
      "·meet-->·meet\n",
      "data-->data\n",
      "reporting-->reporting\n",
      "schedules-->schedule\n",
      "external-->external\n",
      "stakeholders/-->stakeholders/\n",
      "parties-->party\n",
      "designated-->designated\n",
      "data-->data\n",
      "programs-->program\n",
      "·seek-->·seek\n",
      "adopt-->adopt\n",
      "best-->best\n",
      "practices-->practice\n",
      "data-->data\n",
      "reporting-->reporting\n",
      "make-->make\n",
      "recommendations-->recommendation\n",
      "data-->data\n",
      "processing-->processing\n",
      "improvements-->improvement\n",
      "identify-->identify\n",
      "opportunities-->opportunity\n",
      "improve-->improve\n",
      "process-->process\n",
      "data-->data\n",
      "accuracy-->accuracy\n",
      "·provide-->·provide\n",
      "ad-->ad\n",
      "hoc-->hoc\n",
      "data-->data\n",
      "analysis-->analysis\n",
      "internal-->internal\n",
      "external-->external\n",
      "parties-->party\n",
      "requested-->requested\n",
      "·-->·\n",
      "successful-->successful\n",
      "collaboration-->collaboration\n",
      "asembia-->asembia\n",
      "team-->team\n",
      "members-->member\n",
      "attain-->attain\n",
      "common-->common\n",
      "goal-->goal\n",
      "qualifications-->qualification\n",
      "·bachelor-->·bachelor\n",
      "’-->’\n",
      "degree-->degree\n",
      "required-->required\n",
      "b.a./b.s-->b.a./b.s\n",
      "information-->information\n",
      "systems-->system\n",
      "similar-->similar\n",
      "field-->field\n",
      "preferred-->preferred\n",
      "·minimum-->·minimum\n",
      "1-->1\n",
      "3-->3\n",
      "years-->year\n",
      "experience-->experience\n",
      "working-->working\n",
      "data-->data\n",
      "analytics-->analytics\n",
      "software-->software\n",
      "quality-->quality\n",
      "assurance-->assurance\n",
      "–-->–\n",
      "preference-->preference\n",
      "towards-->towards\n",
      "prescription-->prescription\n",
      "pharmaceutical-->pharmaceutical\n",
      "data-->data\n",
      "·must-->·must\n",
      "working-->working\n",
      "knowledge-->knowledge\n",
      "sql-->sql\n",
      "·advance-->·advance\n",
      "level-->level\n",
      "skills-->skill\n",
      "developing-->developing\n",
      "solutions-->solution\n",
      "using-->using\n",
      "sql-->sql\n",
      "ssis-->ssis\n",
      "preferred-->preferred\n",
      "required-->required\n",
      "·must-->·must\n",
      "detail-->detail\n",
      "oriented-->oriented\n",
      "ability-->ability\n",
      "focus-->focus\n",
      "complex-->complex\n",
      "processing-->processing\n",
      "steps-->step\n",
      "·proven-->·proven\n",
      "track-->track\n",
      "record-->record\n",
      "taking-->taking\n",
      "ownership-->ownership\n",
      "data-->data\n",
      "analytics-->analytics\n",
      "software-->software\n",
      "qa-->qa\n",
      "analysis-->analysis\n",
      "·ability-->·ability\n",
      "manage-->manage\n",
      "multiple-->multiple\n",
      "initiatives-->initiative\n",
      "fast-->fast\n",
      "paced-->paced\n",
      "dynamic-->dynamic\n",
      "environment-->environment\n",
      "·strong-->·strong\n",
      "self-starter-->self-starter\n",
      "sense-->sense\n",
      "ownership-->ownership\n",
      "·excellent-->·excellent\n",
      "organizational-->organizational\n",
      "collaboration-->collaboration\n",
      "skills-->skill\n",
      "asembia-->asembia\n",
      "committed-->committed\n",
      "equal-->equal\n",
      "employment-->employment\n",
      "opportunity-->opportunity\n",
      "eeo-->eeo\n",
      "compliance-->compliance\n",
      "federal-->federal\n",
      "state-->state\n",
      "local-->local\n",
      "laws-->law\n",
      "prohibit-->prohibit\n",
      "employment-->employment\n",
      "discrimination-->discrimination\n",
      "basis-->basis\n",
      "race-->race\n",
      "color-->color\n",
      "age-->age\n",
      "natural-->natural\n",
      "origin-->origin\n",
      "ethnicity-->ethnicity\n",
      "religion-->religion\n",
      "gender-->gender\n",
      "pregnancy-->pregnancy\n",
      "marital-->marital\n",
      "status-->status\n",
      "sexual-->sexual\n",
      "orientation-->orientation\n",
      "gender-->gender\n",
      "identity-->identity\n",
      "expression-->expression\n",
      "citizenship-->citizenship\n",
      "genetic-->genetic\n",
      "disposition-->disposition\n",
      "disability-->disability\n",
      "veteran-->veteran\n",
      "'s-->'s\n",
      "status-->status\n",
      "classification-->classification\n",
      "protected-->protected\n",
      "state/federal-->state/federal\n",
      "laws-->law\n"
     ]
    }
   ],
   "source": [
    "# Wordnet not that good\n",
    "list1 = data['job_desc_token'][2]\n",
    "\n",
    "for words in list1:\n",
    "    print(words + \"-->\" + wnl.lemmatize(words))"
   ]
  },
  {
   "cell_type": "code",
   "execution_count": 81,
   "metadata": {},
   "outputs": [],
   "source": [
    "# Spacy for lemmatization \n",
    "\n",
    "nlp = spacy.load('en_core_web_sm')"
   ]
  },
  {
   "cell_type": "code",
   "execution_count": 82,
   "metadata": {},
   "outputs": [],
   "source": [
    "# Spacy lemmatize\n",
    "data[\"job_desc_spacy\"] = data['job_desc_clean'].apply(lambda x: \" \".join([y.lemma_ for y in nlp(x)]))"
   ]
  },
  {
   "cell_type": "code",
   "execution_count": 83,
   "metadata": {
    "scrolled": true
   },
   "outputs": [
    {
     "data": {
      "text/html": [
       "<div>\n",
       "<style scoped>\n",
       "    .dataframe tbody tr th:only-of-type {\n",
       "        vertical-align: middle;\n",
       "    }\n",
       "\n",
       "    .dataframe tbody tr th {\n",
       "        vertical-align: top;\n",
       "    }\n",
       "\n",
       "    .dataframe thead th {\n",
       "        text-align: right;\n",
       "    }\n",
       "</style>\n",
       "<table border=\"1\" class=\"dataframe\">\n",
       "  <thead>\n",
       "    <tr style=\"text-align: right;\">\n",
       "      <th></th>\n",
       "      <th>job_desc_clean</th>\n",
       "      <th>job_desc_stem</th>\n",
       "      <th>job_desc_spacy</th>\n",
       "    </tr>\n",
       "  </thead>\n",
       "  <tbody>\n",
       "    <tr>\n",
       "      <th>0</th>\n",
       "      <td>company overview memorial sloan kettering msk ...</td>\n",
       "      <td>[compani, overview, memori, sloan, ketter, msk...</td>\n",
       "      <td>company overview memorial sloan kettering msk ...</td>\n",
       "    </tr>\n",
       "    <tr>\n",
       "      <th>1</th>\n",
       "      <td>seeking energetic collaborative analyst experi...</td>\n",
       "      <td>[seek, energet, collabor, analyst, experi, pas...</td>\n",
       "      <td>seek energetic collaborative analyst experienc...</td>\n",
       "    </tr>\n",
       "    <tr>\n",
       "      <th>2</th>\n",
       "      <td>decade asembia working specialty pharmacies ma...</td>\n",
       "      <td>[decad, asembia, work, specialti, pharmaci, ma...</td>\n",
       "      <td>decade asembia work specialty pharmacy manufac...</td>\n",
       "    </tr>\n",
       "    <tr>\n",
       "      <th>3</th>\n",
       "      <td>job description summary information security a...</td>\n",
       "      <td>[job, descript, summari, inform, secur, analys...</td>\n",
       "      <td>job description summary information security a...</td>\n",
       "    </tr>\n",
       "    <tr>\n",
       "      <th>4</th>\n",
       "      <td>magnite world's largest independent sell-side ...</td>\n",
       "      <td>[magnit, world, 's, largest, independ, sell-si...</td>\n",
       "      <td>magnite world 's large independent sell - side...</td>\n",
       "    </tr>\n",
       "  </tbody>\n",
       "</table>\n",
       "</div>"
      ],
      "text/plain": [
       "                                      job_desc_clean  \\\n",
       "0  company overview memorial sloan kettering msk ...   \n",
       "1  seeking energetic collaborative analyst experi...   \n",
       "2  decade asembia working specialty pharmacies ma...   \n",
       "3  job description summary information security a...   \n",
       "4  magnite world's largest independent sell-side ...   \n",
       "\n",
       "                                       job_desc_stem  \\\n",
       "0  [compani, overview, memori, sloan, ketter, msk...   \n",
       "1  [seek, energet, collabor, analyst, experi, pas...   \n",
       "2  [decad, asembia, work, specialti, pharmaci, ma...   \n",
       "3  [job, descript, summari, inform, secur, analys...   \n",
       "4  [magnit, world, 's, largest, independ, sell-si...   \n",
       "\n",
       "                                      job_desc_spacy  \n",
       "0  company overview memorial sloan kettering msk ...  \n",
       "1  seek energetic collaborative analyst experienc...  \n",
       "2  decade asembia work specialty pharmacy manufac...  \n",
       "3  job description summary information security a...  \n",
       "4  magnite world 's large independent sell - side...  "
      ]
     },
     "execution_count": 83,
     "metadata": {},
     "output_type": "execute_result"
    }
   ],
   "source": [
    "# Comparing original with stem and lemma\n",
    "data[['job_desc_clean', 'job_desc_stem', 'job_desc_spacy']].head()"
   ]
  },
  {
   "cell_type": "code",
   "execution_count": null,
   "metadata": {},
   "outputs": [],
   "source": [
    "from sklearn.feature_extraction.text import CountVectorizer"
   ]
  },
  {
   "cell_type": "markdown",
   "metadata": {},
   "source": [
    "# Word2Vec for custom lists"
   ]
  },
  {
   "cell_type": "code",
   "execution_count": 84,
   "metadata": {},
   "outputs": [],
   "source": [
    "# job tokens\n",
    "sent_train = data.job_desc_token.values.tolist()"
   ]
  },
  {
   "cell_type": "code",
   "execution_count": 85,
   "metadata": {},
   "outputs": [],
   "source": [
    "# training model on job desc tokens \n",
    "model = Word2Vec(sent_train, sg = 1)"
   ]
  },
  {
   "cell_type": "code",
   "execution_count": 86,
   "metadata": {},
   "outputs": [],
   "source": [
    "# creating a column of bigram tokens for custom lists \n",
    "data['job_desc_bigrams'] = data['job_desc_clean'].apply(lambda row: list(nltk.ngrams(row.split(\" \"), 2)))\n",
    "bi_list = data.job_desc_bigrams.values.tolist()"
   ]
  },
  {
   "cell_type": "code",
   "execution_count": 512,
   "metadata": {
    "scrolled": true
   },
   "outputs": [
    {
     "data": {
      "text/plain": [
       "[('t-sql', 0.8454033136367798),\n",
       " ('sas/r', 0.8359773755073547),\n",
       " ('sparksql', 0.8231843709945679),\n",
       " ('terradata', 0.8166038393974304),\n",
       " ('python', 0.8138742446899414),\n",
       " ('sql/relational', 0.8120959401130676),\n",
       " ('ssrs/ssis/ssas', 0.809596836566925),\n",
       " ('tools/environments', 0.806287944316864),\n",
       " ('tsql', 0.8053796887397766),\n",
       " ('cypher', 0.8042747974395752)]"
      ]
     },
     "execution_count": 512,
     "metadata": {},
     "output_type": "execute_result"
    }
   ],
   "source": [
    "model.wv.most_similar(['sql'])"
   ]
  },
  {
   "cell_type": "code",
   "execution_count": 654,
   "metadata": {
    "scrolled": true
   },
   "outputs": [
    {
     "data": {
      "text/plain": [
       "[('spotfire', 0.8686467409133911),\n",
       " ('domo', 0.8598577976226807),\n",
       " ('qlikview', 0.8483279347419739),\n",
       " ('qlik', 0.8464677333831787),\n",
       " ('chartio', 0.8458862900733948),\n",
       " ('rshiny', 0.8401879668235779),\n",
       " ('sisense', 0.8363835215568542),\n",
       " ('metabase', 0.8339745402336121),\n",
       " ('visualization/reporting', 0.8300536870956421),\n",
       " ('powerbi', 0.8299016356468201)]"
      ]
     },
     "execution_count": 654,
     "metadata": {},
     "output_type": "execute_result"
    }
   ],
   "source": [
    "model.wv.most_similar(['tableau'])"
   ]
  },
  {
   "cell_type": "code",
   "execution_count": 591,
   "metadata": {},
   "outputs": [
    {
     "data": {
      "text/plain": [
       "[('r', 0.9134997725486755),\n",
       " ('java', 0.882867157459259),\n",
       " ('scala', 0.8808922171592712),\n",
       " ('matlab', 0.841879665851593),\n",
       " ('c++/c', 0.8336421251296997),\n",
       " ('r/', 0.8318164944648743),\n",
       " ('python/numpy', 0.8291577100753784),\n",
       " ('python/jupyter', 0.8220095038414001),\n",
       " ('python/pandas', 0.8212622404098511),\n",
       " ('idl', 0.8207764029502869)]"
      ]
     },
     "execution_count": 591,
     "metadata": {},
     "output_type": "execute_result"
    }
   ],
   "source": [
    "model.wv.most_similar(['python'])"
   ]
  },
  {
   "cell_type": "code",
   "execution_count": 655,
   "metadata": {
    "scrolled": false
   },
   "outputs": [
    {
     "data": {
      "text/plain": [
       "0.9134997"
      ]
     },
     "execution_count": 655,
     "metadata": {},
     "output_type": "execute_result"
    }
   ],
   "source": [
    "model.wv.similarity('python', 'r')"
   ]
  },
  {
   "cell_type": "code",
   "execution_count": 542,
   "metadata": {
    "scrolled": true
   },
   "outputs": [],
   "source": [
    "# Custom lists extracted from W2V \n",
    "programming = ['python', 'r', 'c++', 'java', 'c', 'matlab', 'sas', 'spss', 'stata']\n",
    "visualization = ['chartio', 'tableau', 'looker', 'powerbi', 'visualization', 'story-telling',\n",
    "                'spotfire', 'rshiny', 'qlikview', 'domo', 'webfocus', 'qlik']\n",
    "data_eg = ['agile','aws','bigquery','bigsql','cassandra','docker','dockering','hadoop','hbase','hdfs','hive','hivesql',\n",
    "           'kubernetes','mongodb','mysql','nosql','pig','pyspark','s3','scala','spark','sparksql','sql','teradata']\n",
    "python = ['scipy', 'pandas', 'sklearn', 'statsmodels', 'scikit-learn', 'geopandas', 'pybrain', 'scikitlearn', 'numpy', 'matplotlib']\n",
    "education = ['phd', 'ph.d.', 'doctorate', 'masters', 'master', 'ms', 'm.s.', 'bachelor', 'bachelors', 'bs', 'b.s.']\n",
    "experience = ['1+', '2+', '3+', '4+', '5+', '6+', '7+', '8+', '9+', '10+', '2-5+', '3-5+', '3-5', '2-5','5-7','6-8+','4-6', '8-10+', '2-4+']\n",
    "ml = [('machine','learning'), ('predictive', 'modeling'), ('linear', 'regression'), ('logistic', 'regression'), ('k','means'), ('random', 'forest'), ('naive', 'bayes'), ('pca', 'svd'), ('decision', 'tree'), ('ensemble', 'model')]\n",
    "dl = [('neural','network'), ('deep', 'learning'), ('object', 'detection'), ('keras', 'tensorflow'), ('convolutional', 'neural'), ('tensorflow', 'keras')]\n",
    "softskill = ['communication', 'interpersonal', 'verbal', 'written', 'oral', 'inter-personal', 'cross-functional',\n",
    "            'cross-organizational', 'multi-functional', 'teamwork', 'collaboration']\n",
    "#nlp_bigrams = [('natural', 'language'), ('topic', 'modeling'), ('pos', 'tagging'), ('word', 'embedding'), ('sentiment', 'analysis'), ('speech', 'recognition')]\n",
    "#nlp_unigrams = ['nlp', 'lda', 'nmf', 'nltk', 'genism', 'spacy', 'word2vec', 'doc2vec']\n",
    "#international = ['sponsorship', 'visa', 'h-1b', 'h1-b', 'h1b', 'sponsorships', 'visas', 'opt', 'sponsor', 'unfortunately',\n",
    "                #'nonimmigrant', 'aliens', 'nationals', 'l-1', 'greencard']"
   ]
  },
  {
   "cell_type": "code",
   "execution_count": 528,
   "metadata": {},
   "outputs": [],
   "source": [
    "# Just business analysts \n",
    "baba = data[data['source'] == 'ba']"
   ]
  },
  {
   "cell_type": "code",
   "execution_count": 534,
   "metadata": {},
   "outputs": [],
   "source": [
    "# Just data engineer\n",
    "dede = data[data['source'] == 'de']"
   ]
  },
  {
   "cell_type": "code",
   "execution_count": 549,
   "metadata": {},
   "outputs": [
    {
     "data": {
      "text/plain": [
       "[(('deep', 'learning'), 106),\n",
       " (('tensorflow', 'keras'), 14),\n",
       " (('neural', 'network'), 8),\n",
       " (('convolutional', 'neural'), 4),\n",
       " (('object', 'detection'), 3),\n",
       " (('keras', 'tensorflow'), 1)]"
      ]
     },
     "execution_count": 549,
     "metadata": {},
     "output_type": "execute_result"
    }
   ],
   "source": [
    "# Example of count for Data Engineering for deep learning bigrams \n",
    "ed = []\n",
    "for i in dede['job_desc_bigrams']:\n",
    "    for j in i:\n",
    "        if j in dl:\n",
    "            ed.append(j)\n",
    "collections.Counter(ed).most_common()"
   ]
  },
  {
   "cell_type": "code",
   "execution_count": 653,
   "metadata": {},
   "outputs": [
    {
     "data": {
      "text/plain": [
       "[('python', 338),\n",
       " ('r', 240),\n",
       " ('sas', 189),\n",
       " ('c', 151),\n",
       " ('java', 131),\n",
       " ('spss', 49),\n",
       " ('c++', 27),\n",
       " ('matlab', 10),\n",
       " ('stata', 10)]"
      ]
     },
     "execution_count": 653,
     "metadata": {},
     "output_type": "execute_result"
    }
   ],
   "source": [
    "# Example of count for Business Analysts for programming custom list\n",
    "ed = []\n",
    "for i in baba['job_desc_token']:\n",
    "    for j in i:\n",
    "        if j in programming:\n",
    "            ed.append(j)\n",
    "collections.Counter(ed).most_common()"
   ]
  },
  {
   "cell_type": "markdown",
   "metadata": {},
   "source": [
    "# EDA/VISUALIZATIONS"
   ]
  },
  {
   "cell_type": "code",
   "execution_count": 339,
   "metadata": {
    "scrolled": false
   },
   "outputs": [
    {
     "data": {
      "text/html": [
       "<div>\n",
       "<style scoped>\n",
       "    .dataframe tbody tr th:only-of-type {\n",
       "        vertical-align: middle;\n",
       "    }\n",
       "\n",
       "    .dataframe tbody tr th {\n",
       "        vertical-align: top;\n",
       "    }\n",
       "\n",
       "    .dataframe thead th {\n",
       "        text-align: right;\n",
       "    }\n",
       "</style>\n",
       "<table border=\"1\" class=\"dataframe\">\n",
       "  <thead>\n",
       "    <tr style=\"text-align: right;\">\n",
       "      <th></th>\n",
       "      <th>index</th>\n",
       "      <th>state</th>\n",
       "    </tr>\n",
       "  </thead>\n",
       "  <tbody>\n",
       "    <tr>\n",
       "      <th>0</th>\n",
       "      <td>CA</td>\n",
       "      <td>5063</td>\n",
       "    </tr>\n",
       "    <tr>\n",
       "      <th>1</th>\n",
       "      <td>TX</td>\n",
       "      <td>4601</td>\n",
       "    </tr>\n",
       "    <tr>\n",
       "      <th>2</th>\n",
       "      <td>NY</td>\n",
       "      <td>1843</td>\n",
       "    </tr>\n",
       "    <tr>\n",
       "      <th>3</th>\n",
       "      <td>IL</td>\n",
       "      <td>1505</td>\n",
       "    </tr>\n",
       "    <tr>\n",
       "      <th>4</th>\n",
       "      <td>PA</td>\n",
       "      <td>1149</td>\n",
       "    </tr>\n",
       "    <tr>\n",
       "      <th>5</th>\n",
       "      <td>AZ</td>\n",
       "      <td>1015</td>\n",
       "    </tr>\n",
       "    <tr>\n",
       "      <th>6</th>\n",
       "      <td>VA</td>\n",
       "      <td>677</td>\n",
       "    </tr>\n",
       "    <tr>\n",
       "      <th>7</th>\n",
       "      <td>NJ</td>\n",
       "      <td>561</td>\n",
       "    </tr>\n",
       "    <tr>\n",
       "      <th>8</th>\n",
       "      <td>MA</td>\n",
       "      <td>496</td>\n",
       "    </tr>\n",
       "    <tr>\n",
       "      <th>9</th>\n",
       "      <td>FL</td>\n",
       "      <td>495</td>\n",
       "    </tr>\n",
       "  </tbody>\n",
       "</table>\n",
       "</div>"
      ],
      "text/plain": [
       "  index  state\n",
       "0    CA   5063\n",
       "1    TX   4601\n",
       "2    NY   1843\n",
       "3    IL   1505\n",
       "4    PA   1149\n",
       "5    AZ   1015\n",
       "6    VA    677\n",
       "7    NJ    561\n",
       "8    MA    496\n",
       "9    FL    495"
      ]
     },
     "execution_count": 339,
     "metadata": {},
     "output_type": "execute_result"
    }
   ],
   "source": [
    "d = pd.DataFrame(data.state.value_counts().nlargest(10)).reset_index()\n",
    "e = d['index'].tolist()\n",
    "d"
   ]
  },
  {
   "cell_type": "code",
   "execution_count": 342,
   "metadata": {
    "scrolled": true
   },
   "outputs": [
    {
     "data": {
      "text/plain": [
       "<BarContainer object of 10 artists>"
      ]
     },
     "execution_count": 342,
     "metadata": {},
     "output_type": "execute_result"
    },
    {
     "data": {
      "image/png": "[encoded data removed]",
      "text/plain": [
       "<Figure size 432x288 with 1 Axes>"
      ]
     },
     "metadata": {
      "needs_background": "light"
     },
     "output_type": "display_data"
    }
   ],
   "source": [
    "# Distribution of top 10 states counts \n",
    "plt.bar(d['index'], d.state)"
   ]
  },
  {
   "cell_type": "code",
   "execution_count": 313,
   "metadata": {
    "scrolled": true
   },
   "outputs": [
    {
     "data": {
      "text/html": [
       "<div>\n",
       "<style scoped>\n",
       "    .dataframe tbody tr th:only-of-type {\n",
       "        vertical-align: middle;\n",
       "    }\n",
       "\n",
       "    .dataframe tbody tr th {\n",
       "        vertical-align: top;\n",
       "    }\n",
       "\n",
       "    .dataframe thead th {\n",
       "        text-align: right;\n",
       "    }\n",
       "</style>\n",
       "<table border=\"1\" class=\"dataframe\">\n",
       "  <thead>\n",
       "    <tr style=\"text-align: right;\">\n",
       "      <th></th>\n",
       "      <th>job_title</th>\n",
       "      <th>salary_est</th>\n",
       "      <th>job_desc</th>\n",
       "      <th>company</th>\n",
       "      <th>location</th>\n",
       "      <th>city</th>\n",
       "      <th>state</th>\n",
       "      <th>source</th>\n",
       "      <th>salary_low</th>\n",
       "      <th>salary_high</th>\n",
       "      <th>...</th>\n",
       "      <th>job_title_token</th>\n",
       "      <th>job_title_clean</th>\n",
       "      <th>level</th>\n",
       "      <th>role</th>\n",
       "      <th>job_desc_token</th>\n",
       "      <th>job_desc_clean</th>\n",
       "      <th>job_desc_stem</th>\n",
       "      <th>job_desc_spacy</th>\n",
       "      <th>job_desc_bigrams</th>\n",
       "      <th>spacy_tokens</th>\n",
       "    </tr>\n",
       "  </thead>\n",
       "  <tbody>\n",
       "    <tr>\n",
       "      <th>0</th>\n",
       "      <td>business analyst - clinical &amp; logistics platform</td>\n",
       "      <td>$56K-$102K (Glassdoor est.)</td>\n",
       "      <td>company overview   at memorial sloan kettering...</td>\n",
       "      <td>Memorial Sloan-Kettering</td>\n",
       "      <td>New York, NY</td>\n",
       "      <td>New York</td>\n",
       "      <td>NY</td>\n",
       "      <td>ba</td>\n",
       "      <td>56</td>\n",
       "      <td>102</td>\n",
       "      <td>...</td>\n",
       "      <td>[business, analyst, clinical, logistics, platf...</td>\n",
       "      <td>business analyst clinical logistics platform</td>\n",
       "      <td>none</td>\n",
       "      <td>business analyst</td>\n",
       "      <td>[company, overview, memorial, sloan, kettering...</td>\n",
       "      <td>company overview memorial sloan kettering msk ...</td>\n",
       "      <td>[compani, overview, memori, sloan, ketter, msk...</td>\n",
       "      <td>company overview memorial sloan kettering msk ...</td>\n",
       "      <td>[(company, overview), (overview, memorial), (m...</td>\n",
       "      <td>[company, overview, memorial, sloan, kettering...</td>\n",
       "    </tr>\n",
       "    <tr>\n",
       "      <th>1</th>\n",
       "      <td>business analyst</td>\n",
       "      <td>$56K-$102K (Glassdoor est.)</td>\n",
       "      <td>we are seeking for an energetic and collaborat...</td>\n",
       "      <td>Paine Schwartz Partners</td>\n",
       "      <td>New York, NY</td>\n",
       "      <td>New York</td>\n",
       "      <td>NY</td>\n",
       "      <td>ba</td>\n",
       "      <td>56</td>\n",
       "      <td>102</td>\n",
       "      <td>...</td>\n",
       "      <td>[business, analyst]</td>\n",
       "      <td>business analyst</td>\n",
       "      <td>none</td>\n",
       "      <td>business analyst</td>\n",
       "      <td>[seeking, energetic, collaborative, analyst, e...</td>\n",
       "      <td>seeking energetic collaborative analyst experi...</td>\n",
       "      <td>[seek, energet, collabor, analyst, experi, pas...</td>\n",
       "      <td>seek energetic collaborative analyst experienc...</td>\n",
       "      <td>[(seeking, energetic), (energetic, collaborati...</td>\n",
       "      <td>[seek, energetic, collaborative, analyst, expe...</td>\n",
       "    </tr>\n",
       "    <tr>\n",
       "      <th>2</th>\n",
       "      <td>data analyst</td>\n",
       "      <td>$56K-$102K (Glassdoor est.)</td>\n",
       "      <td>for more than a decade, asembia has been worki...</td>\n",
       "      <td>Asembia</td>\n",
       "      <td>Florham Park, NJ</td>\n",
       "      <td>Florham Park</td>\n",
       "      <td>NJ</td>\n",
       "      <td>ba</td>\n",
       "      <td>56</td>\n",
       "      <td>102</td>\n",
       "      <td>...</td>\n",
       "      <td>[data, analyst]</td>\n",
       "      <td>data analyst</td>\n",
       "      <td>none</td>\n",
       "      <td>data analyst</td>\n",
       "      <td>[decade, asembia, working, specialty, pharmaci...</td>\n",
       "      <td>decade asembia working specialty pharmacies ma...</td>\n",
       "      <td>[decad, asembia, work, specialti, pharmaci, ma...</td>\n",
       "      <td>decade asembia work specialty pharmacy manufac...</td>\n",
       "      <td>[(decade, asembia), (asembia, working), (worki...</td>\n",
       "      <td>[decade, asembia, work, specialty, pharmacy, m...</td>\n",
       "    </tr>\n",
       "    <tr>\n",
       "      <th>3</th>\n",
       "      <td>information security analyst, incident response</td>\n",
       "      <td>$56K-$102K (Glassdoor est.)</td>\n",
       "      <td>job description summary the information securi...</td>\n",
       "      <td>BD</td>\n",
       "      <td>Franklin Lakes, NJ</td>\n",
       "      <td>Franklin Lakes</td>\n",
       "      <td>NJ</td>\n",
       "      <td>ba</td>\n",
       "      <td>56</td>\n",
       "      <td>102</td>\n",
       "      <td>...</td>\n",
       "      <td>[information, security, analyst, incident, res...</td>\n",
       "      <td>information security analyst incident response</td>\n",
       "      <td>none</td>\n",
       "      <td>analyst</td>\n",
       "      <td>[job, description, summary, information, secur...</td>\n",
       "      <td>job description summary information security a...</td>\n",
       "      <td>[job, descript, summari, inform, secur, analys...</td>\n",
       "      <td>job description summary information security a...</td>\n",
       "      <td>[(job, description), (description, summary), (...</td>\n",
       "      <td>[job, description, summary, information, secur...</td>\n",
       "    </tr>\n",
       "    <tr>\n",
       "      <th>4</th>\n",
       "      <td>analyst - fp&amp;a global revenue</td>\n",
       "      <td>$56K-$102K (Glassdoor est.)</td>\n",
       "      <td>magnite is the world's largest independent sel...</td>\n",
       "      <td>Rubicon Project</td>\n",
       "      <td>New York, NY</td>\n",
       "      <td>New York</td>\n",
       "      <td>NY</td>\n",
       "      <td>ba</td>\n",
       "      <td>56</td>\n",
       "      <td>102</td>\n",
       "      <td>...</td>\n",
       "      <td>[analyst, fp, global, revenue]</td>\n",
       "      <td>analyst fp global revenue</td>\n",
       "      <td>none</td>\n",
       "      <td>analyst</td>\n",
       "      <td>[magnite, world, 's, largest, independent, sel...</td>\n",
       "      <td>magnite world's largest independent sell-side ...</td>\n",
       "      <td>[magnit, world, 's, largest, independ, sell-si...</td>\n",
       "      <td>magnite world 's large independent sell - side...</td>\n",
       "      <td>[(magnite, world's), (world's, largest), (larg...</td>\n",
       "      <td>[magnite, world, 's, large, independent, sell,...</td>\n",
       "    </tr>\n",
       "  </tbody>\n",
       "</table>\n",
       "<p>5 rows × 22 columns</p>\n",
       "</div>"
      ],
      "text/plain": [
       "                                          job_title  \\\n",
       "0  business analyst - clinical & logistics platform   \n",
       "1                                  business analyst   \n",
       "2                                      data analyst   \n",
       "3   information security analyst, incident response   \n",
       "4                     analyst - fp&a global revenue   \n",
       "\n",
       "                    salary_est  \\\n",
       "0  $56K-$102K (Glassdoor est.)   \n",
       "1  $56K-$102K (Glassdoor est.)   \n",
       "2  $56K-$102K (Glassdoor est.)   \n",
       "3  $56K-$102K (Glassdoor est.)   \n",
       "4  $56K-$102K (Glassdoor est.)   \n",
       "\n",
       "                                            job_desc  \\\n",
       "0  company overview   at memorial sloan kettering...   \n",
       "1  we are seeking for an energetic and collaborat...   \n",
       "2  for more than a decade, asembia has been worki...   \n",
       "3  job description summary the information securi...   \n",
       "4  magnite is the world's largest independent sel...   \n",
       "\n",
       "                    company            location            city state source  \\\n",
       "0  Memorial Sloan-Kettering        New York, NY        New York    NY     ba   \n",
       "1   Paine Schwartz Partners        New York, NY        New York    NY     ba   \n",
       "2                   Asembia    Florham Park, NJ    Florham Park    NJ     ba   \n",
       "3                        BD  Franklin Lakes, NJ  Franklin Lakes    NJ     ba   \n",
       "4           Rubicon Project        New York, NY        New York    NY     ba   \n",
       "\n",
       "   salary_low  salary_high  ...  \\\n",
       "0          56          102  ...   \n",
       "1          56          102  ...   \n",
       "2          56          102  ...   \n",
       "3          56          102  ...   \n",
       "4          56          102  ...   \n",
       "\n",
       "                                     job_title_token  \\\n",
       "0  [business, analyst, clinical, logistics, platf...   \n",
       "1                                [business, analyst]   \n",
       "2                                    [data, analyst]   \n",
       "3  [information, security, analyst, incident, res...   \n",
       "4                     [analyst, fp, global, revenue]   \n",
       "\n",
       "                                  job_title_clean level              role  \\\n",
       "0    business analyst clinical logistics platform  none  business analyst   \n",
       "1                                business analyst  none  business analyst   \n",
       "2                                    data analyst  none      data analyst   \n",
       "3  information security analyst incident response  none           analyst   \n",
       "4                       analyst fp global revenue  none           analyst   \n",
       "\n",
       "                                      job_desc_token  \\\n",
       "0  [company, overview, memorial, sloan, kettering...   \n",
       "1  [seeking, energetic, collaborative, analyst, e...   \n",
       "2  [decade, asembia, working, specialty, pharmaci...   \n",
       "3  [job, description, summary, information, secur...   \n",
       "4  [magnite, world, 's, largest, independent, sel...   \n",
       "\n",
       "                                      job_desc_clean  \\\n",
       "0  company overview memorial sloan kettering msk ...   \n",
       "1  seeking energetic collaborative analyst experi...   \n",
       "2  decade asembia working specialty pharmacies ma...   \n",
       "3  job description summary information security a...   \n",
       "4  magnite world's largest independent sell-side ...   \n",
       "\n",
       "                                       job_desc_stem  \\\n",
       "0  [compani, overview, memori, sloan, ketter, msk...   \n",
       "1  [seek, energet, collabor, analyst, experi, pas...   \n",
       "2  [decad, asembia, work, specialti, pharmaci, ma...   \n",
       "3  [job, descript, summari, inform, secur, analys...   \n",
       "4  [magnit, world, 's, largest, independ, sell-si...   \n",
       "\n",
       "                                      job_desc_spacy  \\\n",
       "0  company overview memorial sloan kettering msk ...   \n",
       "1  seek energetic collaborative analyst experienc...   \n",
       "2  decade asembia work specialty pharmacy manufac...   \n",
       "3  job description summary information security a...   \n",
       "4  magnite world 's large independent sell - side...   \n",
       "\n",
       "                                    job_desc_bigrams  \\\n",
       "0  [(company, overview), (overview, memorial), (m...   \n",
       "1  [(seeking, energetic), (energetic, collaborati...   \n",
       "2  [(decade, asembia), (asembia, working), (worki...   \n",
       "3  [(job, description), (description, summary), (...   \n",
       "4  [(magnite, world's), (world's, largest), (larg...   \n",
       "\n",
       "                                        spacy_tokens  \n",
       "0  [company, overview, memorial, sloan, kettering...  \n",
       "1  [seek, energetic, collaborative, analyst, expe...  \n",
       "2  [decade, asembia, work, specialty, pharmacy, m...  \n",
       "3  [job, description, summary, information, secur...  \n",
       "4  [magnite, world, 's, large, independent, sell,...  \n",
       "\n",
       "[5 rows x 22 columns]"
      ]
     },
     "execution_count": 313,
     "metadata": {},
     "output_type": "execute_result"
    }
   ],
   "source": [
    "top10 = data[data['state'].isin(e)]"
   ]
  },
  {
   "cell_type": "code",
   "execution_count": 597,
   "metadata": {
    "scrolled": true
   },
   "outputs": [],
   "source": [
    "avg10 = pd.DataFrame(data.groupby('state')['salary_mean'].mean().sort_values(ascending = False)).reset_index()"
   ]
  },
  {
   "cell_type": "code",
   "execution_count": 598,
   "metadata": {
    "scrolled": true
   },
   "outputs": [
    {
     "data": {
      "text/html": [
       "<div>\n",
       "<style scoped>\n",
       "    .dataframe tbody tr th:only-of-type {\n",
       "        vertical-align: middle;\n",
       "    }\n",
       "\n",
       "    .dataframe tbody tr th {\n",
       "        vertical-align: top;\n",
       "    }\n",
       "\n",
       "    .dataframe thead th {\n",
       "        text-align: right;\n",
       "    }\n",
       "</style>\n",
       "<table border=\"1\" class=\"dataframe\">\n",
       "  <thead>\n",
       "    <tr style=\"text-align: right;\">\n",
       "      <th></th>\n",
       "      <th>state</th>\n",
       "      <th>salary_mean</th>\n",
       "    </tr>\n",
       "  </thead>\n",
       "  <tbody>\n",
       "    <tr>\n",
       "      <th>0</th>\n",
       "      <td>NE</td>\n",
       "      <td>122.535359</td>\n",
       "    </tr>\n",
       "    <tr>\n",
       "      <th>1</th>\n",
       "      <td>WV</td>\n",
       "      <td>121.631156</td>\n",
       "    </tr>\n",
       "    <tr>\n",
       "      <th>2</th>\n",
       "      <td>AR</td>\n",
       "      <td>121.540268</td>\n",
       "    </tr>\n",
       "    <tr>\n",
       "      <th>3</th>\n",
       "      <td>KY</td>\n",
       "      <td>120.547948</td>\n",
       "    </tr>\n",
       "    <tr>\n",
       "      <th>4</th>\n",
       "      <td>UnitedStates</td>\n",
       "      <td>118.547183</td>\n",
       "    </tr>\n",
       "    <tr>\n",
       "      <th>5</th>\n",
       "      <td>MD</td>\n",
       "      <td>117.648241</td>\n",
       "    </tr>\n",
       "    <tr>\n",
       "      <th>6</th>\n",
       "      <td>LA</td>\n",
       "      <td>117.556810</td>\n",
       "    </tr>\n",
       "    <tr>\n",
       "      <th>7</th>\n",
       "      <td>ID</td>\n",
       "      <td>116.755252</td>\n",
       "    </tr>\n",
       "    <tr>\n",
       "      <th>8</th>\n",
       "      <td>IA</td>\n",
       "      <td>116.682981</td>\n",
       "    </tr>\n",
       "    <tr>\n",
       "      <th>9</th>\n",
       "      <td>CT</td>\n",
       "      <td>116.324466</td>\n",
       "    </tr>\n",
       "    <tr>\n",
       "      <th>10</th>\n",
       "      <td>WFH</td>\n",
       "      <td>116.300118</td>\n",
       "    </tr>\n",
       "    <tr>\n",
       "      <th>11</th>\n",
       "      <td>MA</td>\n",
       "      <td>116.175986</td>\n",
       "    </tr>\n",
       "    <tr>\n",
       "      <th>12</th>\n",
       "      <td>MS</td>\n",
       "      <td>115.986348</td>\n",
       "    </tr>\n",
       "    <tr>\n",
       "      <th>13</th>\n",
       "      <td>PR</td>\n",
       "      <td>115.986348</td>\n",
       "    </tr>\n",
       "    <tr>\n",
       "      <th>14</th>\n",
       "      <td>VT</td>\n",
       "      <td>115.986348</td>\n",
       "    </tr>\n",
       "    <tr>\n",
       "      <th>15</th>\n",
       "      <td>HI</td>\n",
       "      <td>115.985243</td>\n",
       "    </tr>\n",
       "    <tr>\n",
       "      <th>16</th>\n",
       "      <td>MT</td>\n",
       "      <td>115.983586</td>\n",
       "    </tr>\n",
       "    <tr>\n",
       "      <th>17</th>\n",
       "      <td>DC</td>\n",
       "      <td>115.926033</td>\n",
       "    </tr>\n",
       "    <tr>\n",
       "      <th>18</th>\n",
       "      <td>MN</td>\n",
       "      <td>115.899374</td>\n",
       "    </tr>\n",
       "    <tr>\n",
       "      <th>19</th>\n",
       "      <td>MO</td>\n",
       "      <td>115.458641</td>\n",
       "    </tr>\n",
       "    <tr>\n",
       "      <th>20</th>\n",
       "      <td>OR</td>\n",
       "      <td>115.054973</td>\n",
       "    </tr>\n",
       "    <tr>\n",
       "      <th>21</th>\n",
       "      <td>GA</td>\n",
       "      <td>114.840793</td>\n",
       "    </tr>\n",
       "    <tr>\n",
       "      <th>22</th>\n",
       "      <td>MI</td>\n",
       "      <td>114.836493</td>\n",
       "    </tr>\n",
       "    <tr>\n",
       "      <th>23</th>\n",
       "      <td>NV</td>\n",
       "      <td>114.340945</td>\n",
       "    </tr>\n",
       "    <tr>\n",
       "      <th>24</th>\n",
       "      <td>TN</td>\n",
       "      <td>114.154067</td>\n",
       "    </tr>\n",
       "    <tr>\n",
       "      <th>25</th>\n",
       "      <td>NM</td>\n",
       "      <td>113.659930</td>\n",
       "    </tr>\n",
       "    <tr>\n",
       "      <th>26</th>\n",
       "      <td>NH</td>\n",
       "      <td>113.280479</td>\n",
       "    </tr>\n",
       "    <tr>\n",
       "      <th>27</th>\n",
       "      <td>CA</td>\n",
       "      <td>112.652396</td>\n",
       "    </tr>\n",
       "    <tr>\n",
       "      <th>28</th>\n",
       "      <td>AL</td>\n",
       "      <td>112.278074</td>\n",
       "    </tr>\n",
       "    <tr>\n",
       "      <th>29</th>\n",
       "      <td>RI</td>\n",
       "      <td>112.273815</td>\n",
       "    </tr>\n",
       "    <tr>\n",
       "      <th>30</th>\n",
       "      <td>WI</td>\n",
       "      <td>111.140941</td>\n",
       "    </tr>\n",
       "    <tr>\n",
       "      <th>31</th>\n",
       "      <td>VA</td>\n",
       "      <td>110.838019</td>\n",
       "    </tr>\n",
       "    <tr>\n",
       "      <th>32</th>\n",
       "      <td>ME</td>\n",
       "      <td>109.904739</td>\n",
       "    </tr>\n",
       "    <tr>\n",
       "      <th>33</th>\n",
       "      <td>OK</td>\n",
       "      <td>109.782565</td>\n",
       "    </tr>\n",
       "    <tr>\n",
       "      <th>34</th>\n",
       "      <td>WA</td>\n",
       "      <td>109.751780</td>\n",
       "    </tr>\n",
       "    <tr>\n",
       "      <th>35</th>\n",
       "      <td>KS</td>\n",
       "      <td>107.158554</td>\n",
       "    </tr>\n",
       "    <tr>\n",
       "      <th>36</th>\n",
       "      <td>ND</td>\n",
       "      <td>106.379894</td>\n",
       "    </tr>\n",
       "    <tr>\n",
       "      <th>37</th>\n",
       "      <td>NY</td>\n",
       "      <td>105.385568</td>\n",
       "    </tr>\n",
       "    <tr>\n",
       "      <th>38</th>\n",
       "      <td>NJ</td>\n",
       "      <td>104.063119</td>\n",
       "    </tr>\n",
       "    <tr>\n",
       "      <th>39</th>\n",
       "      <td>SC</td>\n",
       "      <td>103.797860</td>\n",
       "    </tr>\n",
       "    <tr>\n",
       "      <th>40</th>\n",
       "      <td>UK</td>\n",
       "      <td>102.897270</td>\n",
       "    </tr>\n",
       "    <tr>\n",
       "      <th>41</th>\n",
       "      <td>NC</td>\n",
       "      <td>101.843008</td>\n",
       "    </tr>\n",
       "    <tr>\n",
       "      <th>42</th>\n",
       "      <td>CO</td>\n",
       "      <td>100.372235</td>\n",
       "    </tr>\n",
       "    <tr>\n",
       "      <th>43</th>\n",
       "      <td>DE</td>\n",
       "      <td>99.109117</td>\n",
       "    </tr>\n",
       "    <tr>\n",
       "      <th>44</th>\n",
       "      <td>IN</td>\n",
       "      <td>98.530816</td>\n",
       "    </tr>\n",
       "    <tr>\n",
       "      <th>45</th>\n",
       "      <td>OH</td>\n",
       "      <td>98.088125</td>\n",
       "    </tr>\n",
       "    <tr>\n",
       "      <th>46</th>\n",
       "      <td>FL</td>\n",
       "      <td>95.260277</td>\n",
       "    </tr>\n",
       "    <tr>\n",
       "      <th>47</th>\n",
       "      <td>PA</td>\n",
       "      <td>94.243669</td>\n",
       "    </tr>\n",
       "    <tr>\n",
       "      <th>48</th>\n",
       "      <td>IL</td>\n",
       "      <td>93.677547</td>\n",
       "    </tr>\n",
       "    <tr>\n",
       "      <th>49</th>\n",
       "      <td>AZ</td>\n",
       "      <td>86.212969</td>\n",
       "    </tr>\n",
       "    <tr>\n",
       "      <th>50</th>\n",
       "      <td>TX</td>\n",
       "      <td>85.331107</td>\n",
       "    </tr>\n",
       "    <tr>\n",
       "      <th>51</th>\n",
       "      <td>UT</td>\n",
       "      <td>82.835319</td>\n",
       "    </tr>\n",
       "  </tbody>\n",
       "</table>\n",
       "</div>"
      ],
      "text/plain": [
       "           state  salary_mean\n",
       "0             NE   122.535359\n",
       "1             WV   121.631156\n",
       "2             AR   121.540268\n",
       "3             KY   120.547948\n",
       "4   UnitedStates   118.547183\n",
       "5             MD   117.648241\n",
       "6             LA   117.556810\n",
       "7             ID   116.755252\n",
       "8             IA   116.682981\n",
       "9             CT   116.324466\n",
       "10           WFH   116.300118\n",
       "11            MA   116.175986\n",
       "12            MS   115.986348\n",
       "13            PR   115.986348\n",
       "14            VT   115.986348\n",
       "15            HI   115.985243\n",
       "16            MT   115.983586\n",
       "17            DC   115.926033\n",
       "18            MN   115.899374\n",
       "19            MO   115.458641\n",
       "20            OR   115.054973\n",
       "21            GA   114.840793\n",
       "22            MI   114.836493\n",
       "23            NV   114.340945\n",
       "24            TN   114.154067\n",
       "25            NM   113.659930\n",
       "26            NH   113.280479\n",
       "27            CA   112.652396\n",
       "28            AL   112.278074\n",
       "29            RI   112.273815\n",
       "30            WI   111.140941\n",
       "31            VA   110.838019\n",
       "32            ME   109.904739\n",
       "33            OK   109.782565\n",
       "34            WA   109.751780\n",
       "35            KS   107.158554\n",
       "36            ND   106.379894\n",
       "37            NY   105.385568\n",
       "38            NJ   104.063119\n",
       "39            SC   103.797860\n",
       "40            UK   102.897270\n",
       "41            NC   101.843008\n",
       "42            CO   100.372235\n",
       "43            DE    99.109117\n",
       "44            IN    98.530816\n",
       "45            OH    98.088125\n",
       "46            FL    95.260277\n",
       "47            PA    94.243669\n",
       "48            IL    93.677547\n",
       "49            AZ    86.212969\n",
       "50            TX    85.331107\n",
       "51            UT    82.835319"
      ]
     },
     "execution_count": 598,
     "metadata": {},
     "output_type": "execute_result"
    }
   ],
   "source": [
    "avg10"
   ]
  },
  {
   "cell_type": "code",
   "execution_count": 354,
   "metadata": {
    "scrolled": false
   },
   "outputs": [
    {
     "data": {
      "text/plain": [
       "<BarContainer object of 10 artists>"
      ]
     },
     "execution_count": 354,
     "metadata": {},
     "output_type": "execute_result"
    },
    {
     "data": {
      "image/png": "[encoded data removed]",
      "text/plain": [
       "<Figure size 432x288 with 1 Axes>"
      ]
     },
     "metadata": {
      "needs_background": "light"
     },
     "output_type": "display_data"
    }
   ],
   "source": [
    "# Average salary for each stsate \n",
    "plt.bar(avg10.state, avg10.salary_mean, )"
   ]
  },
  {
   "cell_type": "code",
   "execution_count": 362,
   "metadata": {
    "scrolled": true
   },
   "outputs": [
    {
     "name": "stdout",
     "output_type": "stream",
     "text": [
      "    level  salary_mean\n",
      "0    exec   161.905797\n",
      "1    head   136.346154\n",
      "2    lead   112.555727\n",
      "3  senior   103.046675\n",
      "4     mid    99.773069\n",
      "5    none    99.647535\n",
      "6  junior    86.146134\n"
     ]
    },
    {
     "data": {
      "text/plain": [
       "<BarContainer object of 7 artists>"
      ]
     },
     "execution_count": 362,
     "metadata": {},
     "output_type": "execute_result"
    },
    {
     "data": {
      "image/png": "[encoded data removed]",
      "text/plain": [
       "<Figure size 432x288 with 1 Axes>"
      ]
     },
     "metadata": {
      "needs_background": "light"
     },
     "output_type": "display_data"
    }
   ],
   "source": [
    "levels = pd.DataFrame(data.groupby('level')['salary_mean'].mean().sort_values(ascending = False).reset_index())\n",
    "print(levels)\n",
    "plt.bar(levels.level, levels.salary_mean)\n",
    "# based on the roles where we were able to extract a title\n",
    "# salary by levels "
   ]
  },
  {
   "cell_type": "code",
   "execution_count": 474,
   "metadata": {},
   "outputs": [
    {
     "data": {
      "text/plain": [
       "<BarContainer object of 7 artists>"
      ]
     },
     "execution_count": 474,
     "metadata": {},
     "output_type": "execute_result"
    },
    {
     "data": {
      "image/png": "[encoded data removed]",
      "text/plain": [
       "<Figure size 432x288 with 1 Axes>"
      ]
     },
     "metadata": {
      "needs_background": "light"
     },
     "output_type": "display_data"
    }
   ],
   "source": [
    "level69 = pd.DataFrame(data.groupby(['level']).sample(n=69))\n",
    "level_salary_samp = pd.DataFrame(level69.groupby(['level'])['salary_mean'].mean().sort_values(ascending = False).reset_index())\n",
    "plt.bar(level_salary_samp.level, level_salary_samp.salary_mean)\n",
    "# About the same disribution as no random sample"
   ]
  },
  {
   "cell_type": "code",
   "execution_count": 659,
   "metadata": {},
   "outputs": [],
   "source": [
    "# Custom stopwords\n",
    "stopw = ['available', 'excellent','travel', 'and', 'or' 'vendor', 'approach','analyze', 'integrate', 'analytical',\n",
    "         'store','find','staff', 'career', 'executiion', 'modern', 'construction', 'around', 'multi', 'translate', \n",
    "         'place',  'goal', 'scalable', 'idea', 'expect', 'reliability', 'operating', 'release', 'order', 'directly', 'highly', \n",
    "         'prove', 'unit', 'site', 'creative', 'power', 'cross', 'functional', 'serve', 'come', 'device', 'additional', \n",
    "         'validation', 'collaboration', 'associate', 'involve', 'brand', 'evaluate', 'identify', 'engage', 'culture', \n",
    "         'asset', 'ideal', 'prepare', 'principle','passionate', 'global', 'sale', 'proficiency', 'direct', 'marketing', \n",
    "         'specific', 'bring', 'direct', 'necessary', 'appropriate', 'sex', 'applicant', 'individual', 'disability', \n",
    "         'affirmatve', 'action', 'healthcare', 'fast', 'pace', 'similar', 'seek', 'large', 'scale', 'leadership', \n",
    "         'maintenance', 'idenity', 'solid', 'success', 'function', 'event', 'market', 'passion', 'class', 'us', 'overall', \n",
    "         'operational', 'real', 'certification', 'initiative', 'background','external', 'internal', 'configuration', 'digital', \n",
    "         'relevant', 'insight', 'financial','distribute', 'establish','effort', 'learn','identity', 'advanced', 'basic', \n",
    "         'dental', 'vision', 'solve', 'problem', 'solving', 'delivery', 'operate','current', 'critical', 'execute', \n",
    "         'bring' 'applicant', 'receive', 'take', 'core', 'receive', 'consideration','equal', 'employment','mission', \n",
    "         'task', 'leader', 'future','access', 'world', 'processing', 'share', 'open', 'department', 'reasonable', \n",
    "         'understanding', 'specification', 'challenge', 'deploy', 'hardware', 'conduct', 'least', 'problem', 'united', \n",
    "         'state','follow', 'training', 'education', 'office', 'successful', 'stakeholder', 'collaborate', 'improve', \n",
    "         'manager', 'troubleshoot', 'establist', 'know', 'leverage', 'procedure', 'coordinate','skill', 'reporting','every', \n",
    "         'resource', 'review', 'one', 'analyst', 'web', 'working', 'great', 'candidate', 'deployment', 'participate', \n",
    "         'technique', 'utilize','complex', 'area','equipment', 'closely', 'group', 'change', 'enable', 'issue', 'performance', \n",
    "         'impact','exist', 'multiple', 'employee', 'feature', 'result', 'senior', 'grow', 'growth', 'identity', 'innovative', \n",
    "         'set', 'able', 'key', 'developer', 'groupll', 'intelligence', 'architecture', 'production', 'building', 'testing', \n",
    "         'information', 'eg', 'make', 'deliver', 'familiarity', 'qualification', 'component', 'value', 'desire', 'join', \n",
    "         'concept', '11', 'end', 'may','without','good','member', 'bachelor', 'plan','part', 'people','capability', \n",
    "         'contribute','perform', 'implementation', 'high', 'across', 'want', 'center', 'expert', 'minimum', 'control', \n",
    "         'source', 'day', 'documentation', 'decision', 'infrastructure', 'level','devlier', 'document', 'responsibility', \n",
    "         'practice', 'network', 'responsible', 'production,', 'look', 'preferred', 'build', 'lead', 'base', 'implement', \n",
    "         'analytic', 'integration', 'meet', 'must', 'define','test', 'team', 'design', 'quality', 'user', 'degree', 'various', \n",
    "         'activity', 'strategy', 'code','program', 'platform','operation','organization', 'demonstrate','within', 'opeartion', \n",
    "         'partner','assist','apply','understand','create', 'tool', 'offer', 'technical', 'knowledge','analysis','professional',\n",
    "         'race', 'strong', 'prefer', 'regard', 'ability', 'e', 'g', 'role', 'big', 'standard', 'color', 'religion','related', \n",
    "         'field', 'report', 'focus', 'relate', 'manage', 'witihin', 'code' 'employee', 'expertise', 'full','time', 'industry', \n",
    "         'business', 'plus','require', 'veteran', 'status', 'etc', 'enterprise','position','hand','develop', 'company', 'drive',\n",
    "         'sexual', 'orientation','new','help','job', 'description','maintain', 'ensure','datum', 'scientist','solution','year',\n",
    "         'experience', 'project', 'system', 'product', 'support', 'application', 'use', 'technology', 'include', 'well', \n",
    "         'service','data', 'engineer', 'opportunity', 'employer','national', 'origin','gender','identity','process','software', \n",
    "         'engineering', 'client', 'management', 'need','environment','identity', 'computer', 'science', 'provide','development', 'equal opportunity', 'customer', \n",
    "         'national origin', 'sexual orientation', 'race color', 'requirement', 'equal opportunity', 'work']"
   ]
  },
  {
   "cell_type": "code",
   "execution_count": 600,
   "metadata": {
    "scrolled": false
   },
   "outputs": [
    {
     "data": {
      "text/plain": [
       "(-0.5, 399.5, 199.5, -0.5)"
      ]
     },
     "execution_count": 600,
     "metadata": {},
     "output_type": "execute_result"
    },
    {
     "data": {
      "image/png": "[encoded data removed]",
      "text/plain": [
       "<Figure size 936x720 with 1 Axes>"
      ]
     },
     "metadata": {
      "needs_background": "light"
     },
     "output_type": "display_data"
    }
   ],
   "source": [
    "# Word Cloud \n",
    "plt.figure(figsize=(13,10))\n",
    "wc = WordCloud(max_words=2000, stopwords = stopw, max_font_size= 40, background_color = 'white') \n",
    "wc_text = data['spacy_tokens'].apply(lambda x: ' '.join(x)).values\n",
    "wc.generate(' '.join(wc_text))\n",
    "plt.imshow(wc.recolor( colormap= 'GnBu' , random_state=17), alpha=0.98)\n",
    "plt.axis('off')"
   ]
  },
  {
   "cell_type": "code",
   "execution_count": 467,
   "metadata": {},
   "outputs": [
    {
     "data": {
      "text/plain": [
       "<BarContainer object of 19 artists>"
      ]
     },
     "execution_count": 467,
     "metadata": {},
     "output_type": "execute_result"
    },
    {
     "data": {
      "image/png": "[encoded data removed]",
      "text/plain": [
       "<Figure size 432x288 with 1 Axes>"
      ]
     },
     "metadata": {
      "needs_background": "light"
     },
     "output_type": "display_data"
    }
   ],
   "source": [
    "role18 = pd.DataFrame(data.groupby(['role']).sample(n=18))\n",
    "role_salary_samp = pd.DataFrame(role18.groupby(['role'])['salary_mean'].mean().sort_values(ascending = True).reset_index())\n",
    "plt.barh(role_salary_samp.role, role_salary_samp.salary_mean)\n",
    "\n",
    "# Consistently - data scientists, software engineer, ml engineer, data engineer in top 5\n",
    "# Consistently business analyst, consultant, data anaylst, analyst in bottom 5"
   ]
  },
  {
   "cell_type": "code",
   "execution_count": 426,
   "metadata": {
    "scrolled": false
   },
   "outputs": [
    {
     "data": {
      "text/plain": [
       "<BarContainer object of 19 artists>"
      ]
     },
     "execution_count": 426,
     "metadata": {},
     "output_type": "execute_result"
    },
    {
     "data": {
      "image/png": "[encoded data removed]",
      "text/plain": [
       "<Figure size 432x288 with 1 Axes>"
      ]
     },
     "metadata": {
      "needs_background": "light"
     },
     "output_type": "display_data"
    }
   ],
   "source": [
    "role_salary = pd.DataFrame(data.groupby(['role'])['salary_mean'].mean().sort_values(ascending = True)).reset_index()\n",
    "plt.barh(role_salary.role, role_salary.salary_mean)"
   ]
  },
  {
   "cell_type": "markdown",
   "metadata": {},
   "source": [
    "# Ordinary Least Square Regression Model"
   ]
  },
  {
   "cell_type": "markdown",
   "metadata": {},
   "source": [
    "## 1. OLS Model for Data Scientist Roles"
   ]
  },
  {
   "cell_type": "markdown",
   "metadata": {},
   "source": [
    "###  Data Prepration "
   ]
  },
  {
   "cell_type": "code",
   "execution_count": null,
   "metadata": {},
   "outputs": [],
   "source": [
    "dsdf = data[data.source == 'ds']\n",
    "ds1 = dsdf[(dsdf['size'] != '-1') & (dsdf['size']!= 'Unknown')]\n",
    "ds1 = ds1[ds1['state'] != 'om']\n",
    "ds1['uni_bi'] = ds1['job_desc_token'] + ds1['job_desc_bigrams']\n",
    "\n",
    "\n",
    "dsownerships = ds1['ownership'].value_counts().reset_index()\n",
    "dsownerships_cat = dsownerships['index'].values\n",
    "\n",
    "dssoft_list = []\n",
    "\n",
    "for i in ds1['job_desc_token']:\n",
    "    z = set(i).intersection(softskill)\n",
    "    if z:\n",
    "        dssoft_list.append(1)\n",
    "    else:\n",
    "        dssoft_list.append(0)\n",
    "\n",
    "ds1['soft_skill'] = dssoft_list\n",
    "\n",
    "dsownership_list = []\n",
    "\n",
    "# 1 is private, 2 is for public, 3 is for nonprofit, 4 is for government , and 5 is for others \n",
    "private = ['Company - Private', 'Subsidiary or Business Segment','Private Practice / Firm']\n",
    "public = ['Company - Public']\n",
    "nonprofit = ['Nonprofit Organization','College / University', 'School / School District' ]\n",
    "govern = ['Government']\n",
    "\n",
    "for i in ds1['ownership']:\n",
    "    if i in private:\n",
    "        dsownership_list.append(1)\n",
    "    elif i in public:\n",
    "        dsownership_list.append(2)\n",
    "    elif i in nonprofit:\n",
    "        dsownership_list.append(3)\n",
    "    elif i in govern:\n",
    "        dsownership_list.append(4)\n",
    "    else:\n",
    "        dsownership_list.append(5)\n",
    "        \n",
    "ds1['ownership_cat'] = dsownership_list\n",
    "ds1['ownership_cat'] = ds1['ownership_cat'].astype('category')\n",
    "\n",
    "dsownership_dummy = pd.get_dummies(ds1['ownership_cat'])\n",
    "\n",
    "dsownership_dummy.rename(columns = {1:'private', 2:'public', 3:'nonprofit', 4:'govern',5:'other'}, inplace = True)\n",
    "ds1['size']= ds1['size'].astype('category')\n",
    "\n",
    "dssize_dummies = pd.get_dummies(ds1['size'])\n",
    "\n",
    "\n",
    "ds1['state'] = ds1['state'].astype('category')\n",
    "\n",
    "dsstate_dummy = pd.get_dummies(ds1['state'])\n",
    "\n",
    "\n",
    "dsjobprogram_list = []\n",
    "\n",
    "for i in ds1['job_desc_token']:\n",
    "    z = set(i).intersection(programming)\n",
    "    if z:\n",
    "        dsjobprogram_list.append(1)\n",
    "    else:\n",
    "        dsjobprogram_list.append(0)\n",
    "\n",
    "\n",
    "ds1['program_skill'] = dsjobprogram_list\n",
    "\n",
    "dsjobdm_list = []\n",
    "\n",
    "for i in ds1['job_desc_token']:\n",
    "    z = set(i).intersection(data_ma)\n",
    "    if z:\n",
    "        dsjobdm_list.append(1)\n",
    "    else:\n",
    "        dsjobdm_list.append(0)\n",
    "        \n",
    "ds1['dm_skill'] = dsjobdm_list\n",
    "\n",
    "dsjobvisual_list = []\n",
    "for i in ds1['job_desc_token']:\n",
    "    z = set(i).intersection(data_visual)\n",
    "    if z:\n",
    "        dsjobvisual_list.append(1)\n",
    "    else:\n",
    "        dsjobvisual_list.append(0)\n",
    "ds1['visual'] = dsjobvisual_list\n",
    "\n",
    "\n",
    "\n",
    "dsjobmodeling_list = []\n",
    "for i in ds1['job_desc_bigrams']:\n",
    "    z = set(i).intersection(ml)\n",
    "    if z:\n",
    "        dsjobmodeling_list.append(1)\n",
    "    else:\n",
    "        dsjobmodeling_list.append(0)\n",
    "ds1['ml'] = dsjobmodeling_list\n",
    "\n",
    "\n",
    "dsdl_list = []\n",
    "for i in ds1['uni_bi']:\n",
    "    z = set(i).intersection(dl)\n",
    "    if z:\n",
    "        dsdl_list.append(1)\n",
    "    else:\n",
    "        dsdl_list.append(0)\n",
    "ds1['dl'] = dsdl_list"
   ]
  },
  {
   "cell_type": "markdown",
   "metadata": {},
   "source": [
    "### Creating Dummy Variables"
   ]
  },
  {
   "cell_type": "code",
   "execution_count": null,
   "metadata": {},
   "outputs": [],
   "source": [
    "ds_drop = ['size','ownership_cat','ownership','state']\n",
    "ds_add = [ds1, dsownership_dummy, dssize_dummies ,dsstate_dummy]\n",
    "ds_final = pd.concat(ds_add, axis = 1)\n",
    "ds_final = ds_final.drop(ds_drop, axis = 1)"
   ]
  },
  {
   "cell_type": "markdown",
   "metadata": {},
   "source": [
    "### Model Fitting and Summary"
   ]
  },
  {
   "cell_type": "code",
   "execution_count": null,
   "metadata": {},
   "outputs": [],
   "source": [
    "import statsmodels.api as sm\n",
    "\n",
    "drop_dummy = ['OH', 'nonprofit', '1 to 50 employees']\n",
    "ds_x = ds_final.iloc[:,20:]\n",
    "dsx = ds_x.drop(drop_dummy, axis = 1)\n",
    "dsx = sm.add_constant(dsx)\n",
    "ds_y = ds_final['salary_mean']\n",
    "dsmodel = sm.OLS(ds_y, dsx).fit()\n",
    "predictions = dsmodel.predict(dsx)"
   ]
  },
  {
   "cell_type": "code",
   "execution_count": null,
   "metadata": {},
   "outputs": [],
   "source": [
    "# Print Summary \n",
    "print(dsmodel.summary)"
   ]
  },
  {
   "cell_type": "markdown",
   "metadata": {},
   "source": [
    "## 2. OLS Model for Non - Data Scientist Roles"
   ]
  },
  {
   "cell_type": "markdown",
   "metadata": {},
   "source": [
    "### Data Preparation"
   ]
  },
  {
   "cell_type": "code",
   "execution_count": null,
   "metadata": {},
   "outputs": [],
   "source": [
    "nods = data[data.source != 'ds']\n",
    "nods1 = nods[(nods['size'] != '-1') & (nods['size']!= 'Unknown') & (nods['size']!= 'Company - Private')\n",
    "            & (nods['size']!= 'Company - Public')]\n",
    "nods1 = nods1[(nods1['state'] != 'es')]\n",
    "#nods1  = nods1[nods1['state'] != 'UK']\n",
    "nods1['uni_bi'] = nods1['job_desc_token'] + nods1['job_desc_bigrams']\n",
    "\n",
    "\n",
    "\n",
    "\n",
    "nodsownerships =nods1['ownership'].value_counts().reset_index()\n",
    "nodsownerships_cat = nodsownerships['index'].values\n",
    "\n",
    "nodsownership_list = []\n",
    "\n",
    "\n",
    "nodssoft_list = []\n",
    "\n",
    "for i in nods1['job_desc_token']:\n",
    "    z = set(i).intersection(softskill)\n",
    "    if z:\n",
    "        nodssoft_list.append(1)\n",
    "    else:\n",
    "        nodssoft_list.append(0)\n",
    "\n",
    "\n",
    "nods1['soft_skill'] = nodssoft_list\n",
    "\n",
    "\n",
    "\n",
    "\n",
    "\n",
    "# 1 is private, 2 is for public, 3 is for nonprofit, 4 is for government , and 5 is for others \n",
    "private = ['Company - Private', 'Subsidiary or Business Segment','Private Practice / Firm']\n",
    "public = ['Company - Public']\n",
    "nonprofit = ['Nonprofit Organization','College / University', 'School / School District' ]\n",
    "govern = ['Government']\n",
    "\n",
    "for i in nods1['ownership']:\n",
    "    if i in private:\n",
    "        nodsownership_list.append(1)\n",
    "    elif i in public:\n",
    "        nodsownership_list.append(2)\n",
    "    elif i in nonprofit:\n",
    "        nodsownership_list.append(3)\n",
    "    elif i in govern:\n",
    "        nodsownership_list.append(4)\n",
    "    else:\n",
    "        nodsownership_list.append(5)\n",
    "        \n",
    "nods1['ownership_cat'] = nodsownership_list\n",
    "nods1['ownership_cat'] = nods1['ownership_cat'].astype('category')\n",
    "\n",
    "nodsownership_dummy = pd.get_dummies(nods1['ownership_cat'])\n",
    "\n",
    "nodsownership_dummy.rename(columns = {1:'private', 2:'public', 3:'nonprofit', 4:'govern',5:'other'}, inplace = True)\n",
    "nods1['size']= nods1['size'].astype('category')\n",
    "\n",
    "nodssize_dummies = pd.get_dummies(nods1['size'])\n",
    "\n",
    "\n",
    "nods1['state'] = nods1['state'].astype('category')\n",
    "\n",
    "nodsstate_dummy = pd.get_dummies(nods1['state'])\n",
    "\n",
    "\n",
    "\n",
    "\n",
    "\n",
    "\n",
    "nodsjobprogram_list = []\n",
    "\n",
    "for i in nods1['job_desc_token']:\n",
    "    z = set(i).intersection(programming)\n",
    "    if z:\n",
    "        nodsjobprogram_list.append(1)\n",
    "    else:\n",
    "        nodsjobprogram_list.append(0)\n",
    "\n",
    "\n",
    "nods1['program_skill'] = nodsjobprogram_list\n",
    "\n",
    "nodsjobdm_list = []\n",
    "\n",
    "for i in nods1['job_desc_token']:\n",
    "    z = set(i).intersection(data_ma)\n",
    "    if z:\n",
    "        nodsjobdm_list.append(1)\n",
    "    else:\n",
    "        nodsjobdm_list.append(0)\n",
    "        \n",
    "nods1['dm_skill'] = nodsjobdm_list\n",
    "\n",
    "\n",
    "nodsjobvisual_list = []\n",
    "\n",
    "for i in nods1['job_desc_token']:\n",
    "    z = set(i).intersection(data_visual)\n",
    "    if z:\n",
    "        nodsjobvisual_list.append(1)\n",
    "    else:\n",
    "        nodsjobvisual_list.append(0)\n",
    "        \n",
    "nods1['visual'] = nodsjobvisual_list\n",
    "\n",
    "\n",
    "\n",
    "nodsml_list = []\n",
    "\n",
    "for i in nods1['job_desc_bigrams']:\n",
    "    z = set(i).intersection(ml)\n",
    "    if z:\n",
    "        nodsml_list.append(1)\n",
    "    else:\n",
    "        nodsml_list.append(0)\n",
    "        \n",
    "nods1['ml'] = nodsml_list\n",
    "\n",
    "\n",
    "nodsdl_list = []\n",
    "for i in nods1['uni_bi']:\n",
    "    z = set(i).intersection(dl)\n",
    "    if z:\n",
    "        nodsdl_list.append(1)\n",
    "    else:\n",
    "        nodsdl_list.append(0)\n",
    "nods1['dl'] = nodsdl_list"
   ]
  },
  {
   "cell_type": "markdown",
   "metadata": {},
   "source": [
    "### Creating Dummy Variables "
   ]
  },
  {
   "cell_type": "code",
   "execution_count": null,
   "metadata": {},
   "outputs": [],
   "source": [
    "nods_drop = ['size','ownership_cat','ownership','state']\n",
    "nods_add = [nods1, nodsownership_dummy, nodssize_dummies ,nodsstate_dummy]\n",
    "nods_final = pd.concat(nods_add, axis = 1)\n",
    "nods_final = nods_final.drop(nods_drop, axis = 1)"
   ]
  },
  {
   "cell_type": "markdown",
   "metadata": {},
   "source": [
    "### Model Fitting and Model Summary "
   ]
  },
  {
   "cell_type": "code",
   "execution_count": null,
   "metadata": {},
   "outputs": [],
   "source": [
    "import statsmodels.api as sm\n",
    "\n",
    "drop_dummy = ['OH', 'nonprofit', '10000+ employees']\n",
    "nods_x = nods_final.iloc[:,20:]\n",
    "nodsx = nods_x.drop(drop_dummy, axis = 1)\n",
    "nodsx = sm.add_constant(nodsx)\n",
    "nods_y = nods_final['salary_mean']\n",
    "nodsmodel = sm.OLS(nods_y, nodsx).fit()\n",
    "predictions = nodsmodel.predict(nodsx)\n"
   ]
  },
  {
   "cell_type": "code",
   "execution_count": null,
   "metadata": {},
   "outputs": [],
   "source": [
    "# print summary \n",
    "\n",
    "print(nodsmodel.summary)"
   ]
  }
 ],
 "metadata": {
  "kernelspec": {
   "display_name": "Python 3",
   "language": "python",
   "name": "python3"
  },
  "language_info": {
   "codemirror_mode": {
    "name": "ipython",
    "version": 3
   },
   "file_extension": ".py",
   "mimetype": "text/x-python",
   "name": "python",
   "nbconvert_exporter": "python",
   "pygments_lexer": "ipython3",
   "version": "3.8.5"
  }
 },
 "nbformat": 4,
 "nbformat_minor": 4
}
